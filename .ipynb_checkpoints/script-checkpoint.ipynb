{
 "cells": [
  {
   "cell_type": "markdown",
   "metadata": {},
   "source": [
    "# Import Packages"
   ]
  },
  {
   "cell_type": "code",
   "execution_count": 9,
   "metadata": {},
   "outputs": [
    {
     "name": "stdout",
     "output_type": "stream",
     "text": [
      "Collecting package metadata (current_repodata.json): done\n",
      "Solving environment: done\n",
      "\n",
      "# All requested packages already installed.\n",
      "\n"
     ]
    }
   ],
   "source": [
    "!conda install --yes -c bioconda entrez-direct"
   ]
  },
  {
   "cell_type": "code",
   "execution_count": 36,
   "metadata": {},
   "outputs": [
    {
     "name": "stdout",
     "output_type": "stream",
     "text": [
      "Collecting package metadata (current_repodata.json): done\n",
      "Solving environment: done\n",
      "\n",
      "# All requested packages already installed.\n",
      "\n"
     ]
    }
   ],
   "source": [
    "!conda install --yes -c bioconda mafft"
   ]
  },
  {
   "cell_type": "code",
   "execution_count": 37,
   "metadata": {},
   "outputs": [
    {
     "name": "stdout",
     "output_type": "stream",
     "text": [
      "Collecting package metadata (current_repodata.json): done\n",
      "Solving environment: done\n",
      "\n",
      "# All requested packages already installed.\n",
      "\n"
     ]
    }
   ],
   "source": [
    "!conda install --yes -c conda-forge biopython"
   ]
  },
  {
   "cell_type": "markdown",
   "metadata": {},
   "source": [
    "# Data Acquisition and Cleaning "
   ]
  },
  {
   "cell_type": "code",
   "execution_count": 29,
   "metadata": {},
   "outputs": [],
   "source": [
    "!for i in `cat ID_coi.txt`; do esearch -db nucleotide -query \"$i\" | efetch -format fasta > \"$i\".fasta; done"
   ]
  },
  {
   "cell_type": "code",
   "execution_count": 30,
   "metadata": {},
   "outputs": [],
   "source": [
    "!cat *fasta > coi_bird.fa"
   ]
  },
  {
   "cell_type": "code",
   "execution_count": 31,
   "metadata": {},
   "outputs": [],
   "source": [
    "#delete all of the created fasta files that are now concated into coi_bird.fa\n",
    "!rm *[1-9]*.fasta"
   ]
  },
  {
   "cell_type": "code",
   "execution_count": 32,
   "metadata": {},
   "outputs": [],
   "source": [
    "!for i in `cat ID_cytb.txt`; do esearch -db nucleotide -query \"$i\" | efetch -format fasta > \"$i\".fasta; done"
   ]
  },
  {
   "cell_type": "code",
   "execution_count": 33,
   "metadata": {},
   "outputs": [],
   "source": [
    "!cat *[1-9]*fasta > cytb_bird.fa"
   ]
  },
  {
   "cell_type": "code",
   "execution_count": 34,
   "metadata": {},
   "outputs": [],
   "source": [
    "!rm *[1-9]*.fasta"
   ]
  },
  {
   "cell_type": "code",
   "execution_count": 35,
   "metadata": {},
   "outputs": [],
   "source": [
    "!sed \"s/ /_/g\" coi_bird.fa > out_coi_bird.fa"
   ]
  },
  {
   "cell_type": "code",
   "execution_count": 36,
   "metadata": {},
   "outputs": [],
   "source": [
    "!sed \"s/ /_/g\" cytb_bird.fa > out_cytb_bird.fa"
   ]
  },
  {
   "cell_type": "code",
   "execution_count": 37,
   "metadata": {},
   "outputs": [],
   "source": [
    "!rm coi_bird.fa"
   ]
  },
  {
   "cell_type": "code",
   "execution_count": 38,
   "metadata": {},
   "outputs": [],
   "source": [
    "!rm cytb_bird.fa"
   ]
  },
  {
   "cell_type": "code",
   "execution_count": 39,
   "metadata": {},
   "outputs": [],
   "source": [
    "!paste coi_names_before.txt coi_names_after.txt | while read -r n k; do sed -i '' \"s/${n}/>${k}/g\" out_coi_bird.fa; done"
   ]
  },
  {
   "cell_type": "code",
   "execution_count": 40,
   "metadata": {},
   "outputs": [],
   "source": [
    "!paste cytb_names_before.txt cytb_names_after.txt | while read -r n k; do sed -i '' \"s/${n}/>${k}/g\" out_cytb_bird.fa; done"
   ]
  },
  {
   "cell_type": "markdown",
   "metadata": {},
   "source": [
    "*Note:* Had to edit the names_before.txt for species **Poecile carolinensis** and **Parkesia motacilla -> Seiurus \n",
    "motacilla** and  **Geothlypis formosa -> Oporornis formosus** to the correct name of the species. Checked that the species is the same as the ones of interest."
   ]
  },
  {
   "cell_type": "markdown",
   "metadata": {},
   "source": [
    "# Alignment using MAFFT"
   ]
  },
  {
   "cell_type": "markdown",
   "metadata": {},
   "source": [
    "## Individial Marker Gene Alignments"
   ]
  },
  {
   "cell_type": "code",
   "execution_count": 41,
   "metadata": {
    "scrolled": true
   },
   "outputs": [
    {
     "name": "stdout",
     "output_type": "stream",
     "text": [
      "nthread = 0\n",
      "nthreadpair = 0\n",
      "nthreadtb = 0\n",
      "ppenalty_ex = 0\n",
      "stacksize: 8192 kb\n",
      "generating a scoring matrix for nucleotide (dist=200) ... done\n",
      "Gap Penalty = -1.53, +0.00, +0.00\n",
      "\n",
      "\n",
      "\n",
      "Making a distance matrix ..\n",
      "\n",
      "There are 19 ambiguous characters.\n",
      "    1 / 33\n",
      "done.\n",
      "\n",
      "Constructing a UPGMA tree (efffree=0) ... \n",
      "   30 / 33\n",
      "done.\n",
      "\n",
      "Progressive alignment 1/2... \n",
      "STEP    32 / 32 \n",
      "done.\n",
      "\n",
      "Making a distance matrix from msa.. \n",
      "    0 / 33\n",
      "done.\n",
      "\n",
      "Constructing a UPGMA tree (efffree=1) ... \n",
      "   30 / 33\n",
      "done.\n",
      "\n",
      "Progressive alignment 2/2... \n",
      "STEP    32 / 32 \n",
      "done.\n",
      "\n",
      "disttbfast (nuc) Version 7.490\n",
      "alg=A, model=DNA200 (2), 1.53 (4.59), -0.00 (-0.00), noshift, amax=0.0\n",
      "0 thread(s)\n",
      "\n",
      "\n",
      "Strategy:\n",
      " FFT-NS-2 (Fast but rough)\n",
      " Progressive method (guide trees were built 2 times.)\n",
      "\n",
      "If unsure which option to use, try 'mafft --auto input > output'.\n",
      "For more information, see 'mafft --help', 'mafft --man' and the mafft page.\n",
      "\n",
      "The default gap scoring scheme has been changed in version 7.110 (2013 Oct).\n",
      "It tends to insert more gaps into gap-rich regions than previous versions.\n",
      "To disable this change, add the --leavegappyregion option.\n",
      "\n"
     ]
    }
   ],
   "source": [
    "!mafft out_coi_bird.fa > align_coi_bird.fa"
   ]
  },
  {
   "cell_type": "code",
   "execution_count": 42,
   "metadata": {
    "scrolled": true
   },
   "outputs": [
    {
     "name": "stdout",
     "output_type": "stream",
     "text": [
      "nthread = 0\n",
      "nthreadpair = 0\n",
      "nthreadtb = 0\n",
      "ppenalty_ex = 0\n",
      "stacksize: 8192 kb\n",
      "generating a scoring matrix for nucleotide (dist=200) ... done\n",
      "Gap Penalty = -1.53, +0.00, +0.00\n",
      "\n",
      "\n",
      "\n",
      "Making a distance matrix ..\n",
      "\n",
      "There are 218 ambiguous characters.\n",
      "    1 / 33\n",
      "done.\n",
      "\n",
      "Constructing a UPGMA tree (efffree=0) ... \n",
      "   30 / 33\n",
      "done.\n",
      "\n",
      "Progressive alignment 1/2... \n",
      "STEP    32 / 32 \n",
      "done.\n",
      "\n",
      "Making a distance matrix from msa.. \n",
      "    0 / 33\n",
      "done.\n",
      "\n",
      "Constructing a UPGMA tree (efffree=1) ... \n",
      "   30 / 33\n",
      "done.\n",
      "\n",
      "Progressive alignment 2/2... \n",
      "STEP    32 / 32 \n",
      "done.\n",
      "\n",
      "disttbfast (nuc) Version 7.490\n",
      "alg=A, model=DNA200 (2), 1.53 (4.59), -0.00 (-0.00), noshift, amax=0.0\n",
      "0 thread(s)\n",
      "\n",
      "\n",
      "Strategy:\n",
      " FFT-NS-2 (Fast but rough)\n",
      " Progressive method (guide trees were built 2 times.)\n",
      "\n",
      "If unsure which option to use, try 'mafft --auto input > output'.\n",
      "For more information, see 'mafft --help', 'mafft --man' and the mafft page.\n",
      "\n",
      "The default gap scoring scheme has been changed in version 7.110 (2013 Oct).\n",
      "It tends to insert more gaps into gap-rich regions than previous versions.\n",
      "To disable this change, add the --leavegappyregion option.\n",
      "\n"
     ]
    }
   ],
   "source": [
    "!mafft out_cytb_bird.fa > align_cytb_bird.fa"
   ]
  },
  {
   "cell_type": "markdown",
   "metadata": {},
   "source": [
    "# Trimming the sequences in order to concatenate sequences for phylo trees"
   ]
  },
  {
   "cell_type": "markdown",
   "metadata": {},
   "source": [
    "![cytbURL](https://media.giphy.com/media/Pw9zylXd4zWOeAhKJJ/giphy.gif \"alignment for cytb gene\")"
   ]
  },
  {
   "cell_type": "markdown",
   "metadata": {},
   "source": [
    "MEGA alignment for cytb gene"
   ]
  },
  {
   "cell_type": "markdown",
   "metadata": {},
   "source": [
    "![coiURL](https://media.giphy.com/media/tdpdyDuc27GedoPxyK/giphy.gif \"alignment for coi gene\")"
   ]
  },
  {
   "cell_type": "markdown",
   "metadata": {},
   "source": [
    "MEGA alignment for coi gene"
   ]
  },
  {
   "cell_type": "markdown",
   "metadata": {},
   "source": [
    "## Concatenating Aligned Trimmed Sequences for coi and cytb marker genes"
   ]
  },
  {
   "cell_type": "code",
   "execution_count": 49,
   "metadata": {},
   "outputs": [],
   "source": [
    "from Bio import SeqIO\n",
    "    \n",
    "def create_seq_dict(file):\n",
    "    seq_dict = {}\n",
    "    for seq_record in SeqIO.parse(file, \"fasta\"):\n",
    "        _id = seq_record.id\n",
    "        _seq = str(seq_record.seq)\n",
    "        seq_dict[_id] = _seq\n",
    "    return seq_dict\n",
    "\n",
    "coi_dict = create_seq_dict(\"align_coi_bird_trimmed.fas\")\n",
    "cytb_dict = create_seq_dict(\"align_cytb_bird_trimmed.fas\")"
   ]
  },
  {
   "cell_type": "code",
   "execution_count": 48,
   "metadata": {},
   "outputs": [
    {
     "data": {
      "text/plain": [
       "{'Vireo': 'GCCTCCCATACATCGGACAAACATTAGTAGAATGAGCCTGAGGAGGATTCTCAGTAGACAACCCGACTCTAACTCGATTCTTTGCCCTACACTTCCTTCTTCCCTTCGTAATCGCAGGACTAACACTAGTACATCTCACCTTCCTCCACGAAACAGGATCAAACAACCCCCTAGGAATCCCATCAGACTGCGACAAAATCCCATTCCACCC',\n",
       " 'Icterus': 'TGCCTAATCACTCAAATCGTTACAGGTCTTCTGCTAGCCATACACTATACAGCAGACACCAACCTAGCCTTTTCCTCCGTCGCTCACATCTGCCGAGACGTACAATTCGGCTGACTCATTCGCAACCTCCATGCAAATGGAGCCTCCTTTTTCTTCATCTGCATCTACCTTCACATCGGCCGAGGCATCTACTACGGCTCATACCTATACA',\n",
       " 'Empidonax': 'ATGGCACCCAACCTACGAAAACATCATCCCCTTTTAAAAATTGTAAATAACTCTCTAATTGATCTCCCCACACCATCAAACATCTCAGCCTGATGAAACTTCGGCTCCCTACTAGGAATCTGTCTAGCAACCCAAATCATCACTGGTCTCCTACTAGCAATACACTACACCGCAGACACCTCTCTAGCCTTCACATCCGTAGCCCACACAT',\n",
       " 'Limnothlypis': 'ATGGCCCTCAACCTTCGTAAAAACCACCAAATCCTTAAAATCATCAACAACGCTCTAATCGATCTTCCAACACCATCAAACATTTCAACCTGATGAAACTTCGGATCCCTACTAGGCATCTGTCTAATCACCCAAATCATCACAGGTCTCCTACTAGCTATGCACTATACAGCAGATACTAGCCTCGCTTTCTCTTCCGTCGCCCACATAT',\n",
       " 'Oporornis': 'ATGGCCCTCAATCTTCGTAAAAACCACCAAATCCTCAAAATCATCAACGACGCCCTAATCGACCTTCCAGCACCATCAAACATCTCAACCTGATGAAACTTCGGATCCCTCCTAGGCATCTGTCTAATCACCCAAATCGTCACTGGCCTCCTACTGGCCATACACTACACAGCAGACACCAACCTCGCCTTCTCATCCGTAGCCCACATAT',\n",
       " 'Polioptila': 'GTCACCGGACTCCTACTAGCCGCACACTACACAGCAGACACTTCCCTAGCCTTCAACTCCGTAGCCCACATGTGTCGCAACGTTCAATTCGGCTGACTAATCCGCAACCTCCATGCAAACGGAGCTTCCATGTTCTTCATCTGCATCTACCTGCACATTGGACGAGGAATCTACTACGGCTCCTACCTCAATAAAGAAACTTGAAACGTCG',\n",
       " 'Piranga': 'ATCCGTCCTCATCATCCTTATATCCTCATACAGAACCAACCAATGGCCCTCAACCTTCGTAAAAACCACCAAATCCTAAAAATCATCAACAACGCCCTAATTGACCTCCCAACTCCATCAAACATCTCAACATGATGAAACTTCGGATCTCTATTAGGCCTCTGCTTAATTACCCAAATTGTAACAGGTCTTCTGCTAGCCATACACTACA',\n",
       " 'Sialia': 'GTAACCGGCCTACTACTTGCCACCCATTACACAGCAGACACCTCACTAGCCTTCAACTCAGTAGCCCACATATGTCGAAACGTCCAATTCGGCTGACTAATCCGAAACCTTCATGCAAACGGAGCCTCATTCTTCTTCATCTGCATCTACCTTCACATCGGACGAGGATTCTACTACGGCTCCTACTTAAACAAAGAAACCTGAAACATTG',\n",
       " 'Melanerpes': 'TGCCTAGTTACACAAATCATTACAGGCCTACTACTCGCCACCCACTACACTGCTGACACAACCCTAGCCTTCTCATCCGTTGCCCACACATGCCGCAACGTCCAACATGGCTGACTTATCCGCAACCTTCACGCTAACGGAGCCTCATTCTTCTTCATCTGCATCTATCTGCACATCGGACGGGGACTCTACTATGGGTCATACCTATTTA',\n",
       " 'Sitta': 'GTAGGAGTCATTCTATTACTAACCCTTATAGCAACTGCTTTCGTAGGATATGTCCTGCCATGAGGACAAATATCCTTTTGAGGGGCTACAGTCATTACCAACCTATTTTCCGCAATCCCCTACATCGGCCAAACACTAGTAGAATGAGCCTGAGGCGGATTTTCTGTAGACAACCCCACGTTAACACGATTCTTCGCCCTTCACTTCCTAC',\n",
       " 'Thryothorus': 'TTTCGGGTCACTCCTAGGTGTCTGCCTTATCACCCAAATCGTCACCGGCCTCCTGCTAGCCGCACACTACACAGCAGACACATCCCTAGCCTTCAACTCCGTAGCCCACATATGCCGAAACGTACAATTTGGCTGATTAATCCGCAACCTCCACGCAAACGGCGCATCCCTCTTCTTCATTTGCATTTACCTCCACATCGGCCGAGGATTC',\n",
       " 'Spizella': 'ATGGCCCTCAACCTTCGTAAAAATCACCAAATCCTCAAAATCATCAACAACGCTCTAATCGACCTCCCAGCACCATCTAACATCTCAACATGATGAAACTTCGGATCTCTGCTGGGCATCTGCCTAATTACCCAAATCATTACAGGCCTCCTGCTAGCCATACACTACACAGCAGACACCAGCCTAGCCTTCTCTTCCGTCGCTCACATAT',\n",
       " 'Protonotaria': 'ATGGCCCCCAATCTTCGTAAAAACCACCAAATCCTTAAAATCATCAACAACGCCCTGATCGACCTTCCCGCACCATCTAACATTTCAACCTGATGAAACTTCGGATCCCTGTTAGGCATCTGTCTAATTACCCAAATTGTCACAGGTCTCCTACTAGCCATACACTACACAGCAGACACTAACCTCGCCTTTGCCTCCGTCGCCCACATAT',\n",
       " 'Spiza': 'ATGGCCCTCAATCTTCGTAAAAACCACCAAATCCTAAAAATCATCAACGACGCCCTAATTGATCTCCCAGCACCATCTAACATCTCAACATGATGAAACTTCGGGTCTCTACTAGGCCTCTGCCTAATCACCCAAATCATTACAGGTCTTCTGCTAGCCATACACTACACAGCAGACACCAACCTAGCATTCTCCTCCGTCGCCCACATAT',\n",
       " 'Hylocichla': 'GGGTCACTACTAGGCATCTGCTTGGTAACACAAATCATCACTGGCTTACTACTAGCCACGCACTACACAGCAGACACTTCCCTAGCCTTTAACTCAGTAGCCCACATATGCCGAAACGTACAATTTGGCTGACTGATCCGAAACCTACATGCAAACGGAGCCTCATTCTTCTTCATCTGCATCTACCTTCACATCGGCCGAGGAATCTATT',\n",
       " 'Dendroica': 'ATGGCCCTCAATCTTCGTAAAAACCACCAAATCCTCAAAATTATCAACGACGCCCTAATTGACCTACCAACACCATCAAACATCTCCACCTGATGAAACTTTGGATCCCTACTAGGCATCTGTCTAATCACCCAAATCGTCACAGGCCTCCTACTAGCGATACACTACACAGCAGACACTAACCTAGCCTTCTCCTCCGTTGCCCACATAT',\n",
       " 'Wilsonia': 'ATGGCCCTCAACCTTCGTAAAAACCACCAAATCCTCAAAATCATTAACGACGCCCTAATTGATCTACCAACACCATCAAACATTTCGACCTGATGAAACTTTGGATCCCTACTAGGCATCTGCCTAATCACCCAAATCATCACAGGCCTCCTACTAGCCATACACTATACAGCAGACACTAACCTCGCCTTCTCCTCCGTCGCTCACATAT',\n",
       " 'Pipilo': 'ATGGCCCTCAATCTTCGTAAAAACCACCAAATCCTCAAAATCATCAACAACGCCCTAATTGACCTCCCAGCGCCATCAAACATTTCAACATGATGAAACTTCGGGTCTCTACTGGGCATCTGCCTAATCACCCAAATTATCACAGGTCTTCTGCTAGCCATACACTACACAGCAGACACTAGCCTAGCCTTCTCTTCCGTCGCACACATAT',\n",
       " 'Helmitheros': 'ATGGCCCTCAATCTTCGTAAAAACCACCAAATCCTCAAAATCATCAACGACGCCCTAATCGACCTCCCAGCACCATCAAACATCTCAACATGATGAAACTTCGGATCTCTATTAGGTATCTGCTTAATCACTCAAATTGTCACAGGCCTCCTGCTAGCCATACACTACACAGCAGACACTAACCTCGCTTTCGCCTCCGTCGCCCACATAT',\n",
       " 'Seiurus': 'ATGGCCCTCAATCTTCGTAAAAACCACCAAATCCTCAAAATCATCAACGACGCCCTAATCGACCTTCCAGCACCATCAAACATCTCAACCTGATGAAACTTCGGATCCCTTCTAGGCATCTGTCTAATCACCCAAATCGTCACAGGCCTCCTACTAGCCATGCACTACACGGCAGACACTAGCCTCGCCTTCTCCTCCGTCGCCCACATAT',\n",
       " 'Vermivora': 'ATGGCCCTCAATCTTCGTAAAAACCACCAAATCCTCAAAATCATCAANGACGCCCTAATCGACCTACCAGCACCATCAAACATTTCAACCTGATGAAACTTCGGATCCCTACTAGGCATCTGTCTAATCACCCAAATTATCACAGGACTCCTACTAGCTATACACTACACAGCAGACACTAATCTCGCCTTCTCCTCCGTCGCCCACATAT',\n",
       " 'Corvus': 'CCCCGCTTTTTCCTCCGTATCCCACATATGCCGAGACGTACAATTCGGATGACTAATCCGTAATCTACACGCAAATGGAGCTTCTTTCTTCTTCATCTGCATCTATCTACATATTGGCCGAGGATTTTACTACGGCTCATACCTAAACAAAGAAACCTGAAACATTGGAGTAATCCTTCTTCTAACACTAATAGCAACCGCCTTCGTAGGA',\n",
       " 'Mimus': 'TGCCGACACCAGCCCAGCTTTTTCCTCAGTAGCCCACATATGCTGAAACGTCCAATTCGGATGATTAATCCGAAACCTACACGCAAACGGAGCCTCATTCTTCTTCATCTGCATCTACCTACACATCGGCCGAGGAATCTACTACGGATCTTACCTAAACAAAGAAACCTGAAACATCGGAGTAATCCTCCTACTAACCCTAATAGCAACC',\n",
       " 'Toxostoma': 'TCAGTAGCCCACATATGCCGAAACGTTCAATTCGGATGACTAATCCGAAATCTACACGCAAACGGAGCTTCATTCTTCTTCATCTGCATCTACCTCCACATCGGCCGAGGAATCTACTACGGGTCCTACCTAAACAAAGAAACCTGAAACATTGGAGTAATCCTCCTATTAACCCTAATAGCAACCGCCTTCGTAGGATACGTACTGCCCT',\n",
       " 'Poecile': 'CGGATCACTCCTAGGCATCTGCTTAGTCACCCAAATCATCACAGGCCTACTCCTAGCCATACACTACACAGCAGACACTACCCTAGCCTTCACCTCCGTAGCCCACACCTGCCGAAACGTCCAATTCGGCTGACTAATCCGAAACCTCCACGCAAACGGAGCCTCCTTCTTCTTCATCTGCATCTACTTCCACATCGGCCGAGGAATCTAC',\n",
       " 'Coragyps': 'TGACACAAATCCTAACCGGCCTATTACTAGCCATGCACTATACCGCAGATACAACCCTAGCCTTCTCGTCCGTCGCCCATACTTGCCGAAACGTACAATATGGCTGACTAATCCGCAACCTGCATGCAAACGGAGCCTCATTTTTCTTCATTTGCATCTACCTACACATCGGACGAGGCCTCTATTATGGCTCATACCTGTACAAAGAGAC',\n",
       " 'Baeolophus': 'TGGCTCATACCTGAACAAAGAAACCTGAAATATCGGAGTCATCCTACTCCTGACCCTCATAGCAACCGCTTTCGTGGGATACGTCCTACCATGAGGACAAATATCATTCTGAGGTGCTACAGTAATCACAAACCTATTCTCAGCAATCCCATACATTGGCCAAACCCTGGTCGAATGAGCTTGAGGAGGCTTTTCAGTAGACAACCCTACC',\n",
       " 'Crocodylus': 'ATGGCCCACCAACTACGAAAATCCCACCCACTTTTAAAACTAGTAAACCACTCTTTAATTGATTTACCCACGCCATCCAACATCTCCTACTGATGAAACTTTGGATCACTCCTTGGACTCACCTTATTAATCCAACTAGCATCGGGCATCCTACTAATAATGCACTTCCTAGCAGATGACTCTCTAGCTTTTATATCTGTAGCTTACACTT',\n",
       " 'Passerina': 'GGATCTCTATTAGGCCTATGCTTAATTACTCAAATCATCACAGGTCTTCTGCTAGCTATACACTACACAGCAGACACCAACCTAGCCTTTTCCTCCGTCGCCCACATATGCCGAGACGTACAATTCGGCTGACTCATCCGCAACCTCCATGCAAACGGAGCCTCTTTCTTCTTCATCTGCATCTACCTCCACATCGGCCGAGGAATCTACT'}"
      ]
     },
     "execution_count": 48,
     "metadata": {},
     "output_type": "execute_result"
    }
   ],
   "source": [
    "cytb_dict"
   ]
  },
  {
   "cell_type": "code",
   "execution_count": 46,
   "metadata": {},
   "outputs": [
    {
     "ename": "KeyError",
     "evalue": "'Empidonax_virescens'",
     "output_type": "error",
     "traceback": [
      "\u001b[0;31m---------------------------------------------------------------------------\u001b[0m",
      "\u001b[0;31mKeyError\u001b[0m                                  Traceback (most recent call last)",
      "\u001b[0;32m<ipython-input-46-5573a25ae464>\u001b[0m in \u001b[0;36m<module>\u001b[0;34m\u001b[0m\n\u001b[1;32m      2\u001b[0m \u001b[0;34m\u001b[0m\u001b[0m\n\u001b[1;32m      3\u001b[0m \u001b[0;32mfor\u001b[0m \u001b[0mkey\u001b[0m \u001b[0;32min\u001b[0m \u001b[0mcoi_dict\u001b[0m\u001b[0;34m.\u001b[0m\u001b[0mkeys\u001b[0m\u001b[0;34m(\u001b[0m\u001b[0;34m)\u001b[0m\u001b[0;34m:\u001b[0m\u001b[0;34m\u001b[0m\u001b[0;34m\u001b[0m\u001b[0m\n\u001b[0;32m----> 4\u001b[0;31m     \u001b[0mconcat_seq\u001b[0m \u001b[0;34m=\u001b[0m \u001b[0mcoi_dict\u001b[0m\u001b[0;34m[\u001b[0m\u001b[0mkey\u001b[0m\u001b[0;34m]\u001b[0m \u001b[0;34m+\u001b[0m \u001b[0mcytb_dict\u001b[0m\u001b[0;34m[\u001b[0m\u001b[0mkey\u001b[0m\u001b[0;34m]\u001b[0m\u001b[0;34m\u001b[0m\u001b[0;34m\u001b[0m\u001b[0m\n\u001b[0m\u001b[1;32m      5\u001b[0m     \u001b[0mcoi_cytb_file\u001b[0m\u001b[0;34m.\u001b[0m\u001b[0mwrite\u001b[0m\u001b[0;34m(\u001b[0m\u001b[0;34m\">\"\u001b[0m \u001b[0;34m+\u001b[0m \u001b[0mkey\u001b[0m \u001b[0;34m+\u001b[0m \u001b[0;34m\"\\n\"\u001b[0m \u001b[0;34m+\u001b[0m \u001b[0mconcat_seq\u001b[0m \u001b[0;34m+\u001b[0m \u001b[0;34m\"\\n\"\u001b[0m\u001b[0;34m)\u001b[0m\u001b[0;34m\u001b[0m\u001b[0;34m\u001b[0m\u001b[0m\n\u001b[1;32m      6\u001b[0m \u001b[0;34m\u001b[0m\u001b[0m\n",
      "\u001b[0;31mKeyError\u001b[0m: 'Empidonax_virescens'"
     ]
    }
   ],
   "source": [
    "coi_cytb_file = open(\"align_coi_cytb_bird_trimmed.fa\", \"w\")\n",
    "\n",
    "for key in coi_dict.keys():\n",
    "    concat_seq = coi_dict[key] + cytb_dict[key]\n",
    "    coi_cytb_file.write(\">\" + key + \"\\n\" + concat_seq + \"\\n\")\n",
    "\n",
    "coi_cytb_file.close()"
   ]
  },
  {
   "cell_type": "markdown",
   "metadata": {},
   "source": [
    "# Constructing the tree"
   ]
  },
  {
   "cell_type": "markdown",
   "metadata": {},
   "source": [
    "## Convert MSA to phy object"
   ]
  },
  {
   "cell_type": "markdown",
   "metadata": {},
   "source": [
    "### install ape library"
   ]
  },
  {
   "cell_type": "code",
   "execution_count": 16,
   "metadata": {},
   "outputs": [
    {
     "name": "stdout",
     "output_type": "stream",
     "text": [
      "Collecting package metadata (current_repodata.json): done\n",
      "Solving environment: failed with initial frozen solve. Retrying with flexible solve.\n",
      "Solving environment: failed with repodata from current_repodata.json, will retry with next repodata source.\n",
      "Collecting package metadata (repodata.json): done\n",
      "Solving environment: done\n",
      "\n",
      "## Package Plan ##\n",
      "\n",
      "  environment location: /Users/SamihaMahin/opt/anaconda3\n",
      "\n",
      "  added / updated specs:\n",
      "    - r-ape\n",
      "\n",
      "\n",
      "The following packages will be downloaded:\n",
      "\n",
      "    package                    |            build\n",
      "    ---------------------------|-----------------\n",
      "    openssl-1.1.1h             |       haf1e3a3_0         1.9 MB  conda-forge\n",
      "    r-ape-3.5                  |         r3.3.1_0         1.3 MB\n",
      "    ------------------------------------------------------------\n",
      "                                           Total:         3.1 MB\n",
      "\n",
      "The following NEW packages will be INSTALLED:\n",
      "\n",
      "  r-ape              pkgs/r/osx-64::r-ape-3.5-r3.3.1_0\n",
      "\n",
      "The following packages will be SUPERSEDED by a higher-priority channel:\n",
      "\n",
      "  openssl                                         pkgs/main --> conda-forge\n",
      "\n",
      "\n",
      "\n",
      "Downloading and Extracting Packages\n",
      "openssl-1.1.1h       | 1.9 MB    | ##################################### | 100% \n",
      "r-ape-3.5            | 1.3 MB    | ##################################### | 100% \n",
      "Preparing transaction: done\n",
      "Verifying transaction: done\n",
      "Executing transaction: done\n"
     ]
    }
   ],
   "source": [
    "!conda install --yes -c conda-forge r-ape"
   ]
  },
  {
   "cell_type": "markdown",
   "metadata": {},
   "source": [
    "### Generate the phy files in the r script in the folder"
   ]
  },
  {
   "cell_type": "code",
   "execution_count": null,
   "metadata": {},
   "outputs": [],
   "source": [
    "#run r_ape_script.R "
   ]
  },
  {
   "cell_type": "markdown",
   "metadata": {},
   "source": [
    "## Constructing Tree using maximum likelihood"
   ]
  },
  {
   "cell_type": "markdown",
   "metadata": {},
   "source": [
    "### install phyml "
   ]
  },
  {
   "cell_type": "code",
   "execution_count": 1,
   "metadata": {},
   "outputs": [
    {
     "name": "stdout",
     "output_type": "stream",
     "text": [
      "Collecting package metadata (current_repodata.json): done\n",
      "Solving environment: failed with initial frozen solve. Retrying with flexible solve.\n",
      "Solving environment: failed with repodata from current_repodata.json, will retry with next repodata source.\n",
      "Collecting package metadata (repodata.json): done\n",
      "Solving environment: done\n",
      "\n",
      "## Package Plan ##\n",
      "\n",
      "  environment location: /Users/SamihaMahin/opt/anaconda3\n",
      "\n",
      "  added / updated specs:\n",
      "    - phyml\n",
      "\n",
      "\n",
      "The following packages will be downloaded:\n",
      "\n",
      "    package                    |            build\n",
      "    ---------------------------|-----------------\n",
      "    mpi-1.0                    |          openmpi          13 KB\n",
      "    openmpi-4.0.2              |       hfa1e0ec_1         2.4 MB\n",
      "    phyml-3.3.20190909         |       h01d97ff_0         2.0 MB  bioconda\n",
      "    ------------------------------------------------------------\n",
      "                                           Total:         4.4 MB\n",
      "\n",
      "The following NEW packages will be INSTALLED:\n",
      "\n",
      "  mpi                pkgs/main/osx-64::mpi-1.0-openmpi\n",
      "  openmpi            pkgs/main/osx-64::openmpi-4.0.2-hfa1e0ec_1\n",
      "  phyml              bioconda/osx-64::phyml-3.3.20190909-h01d97ff_0\n",
      "\n",
      "\n",
      "\n",
      "Downloading and Extracting Packages\n",
      "phyml-3.3.20190909   | 2.0 MB    | ##################################### | 100% \n",
      "openmpi-4.0.2        | 2.4 MB    | ##################################### | 100% \n",
      "mpi-1.0              | 13 KB     | ##################################### | 100% \n",
      "Preparing transaction: done\n",
      "Verifying transaction: done\n",
      "Executing transaction: done\n"
     ]
    }
   ],
   "source": [
    "!conda install --yes -c bioconda phyml"
   ]
  },
  {
   "cell_type": "markdown",
   "metadata": {},
   "source": [
    "*Note*: Encountered error that the names of species had a space instead of a underscore so replaced the space with an underscore manually."
   ]
  },
  {
   "cell_type": "code",
   "execution_count": 7,
   "metadata": {},
   "outputs": [
    {
     "name": "stdout",
     "output_type": "stream",
     "text": [
      "\n",
      "\n",
      ". Command line: phyml -i coi_bird.phy -d nt -b -1 -m GTR \n",
      "\n",
      "\n",
      "\n",
      "\n",
      "\n",
      "  ////////////////////////////////////.\\\\\\\\\\\\\\\\\\\\\\\\\\\\\\\\\\\\\\\\\\\\\\\\\\\\\\\\\\\\\\\\\\\\\\\\\\\\\\\\\\\\\n",
      "  \\\\\\\\\\\\\\\\\\\\\\\\\\\\\\\\\\\\\\\\\\\\\\\\\\\\\\\\\\\\\\\\\\\\\\\\.//////////////////////////////////////////\n",
      "\n",
      "        . Sequence filename:\t\t\t\t coi_bird.phy\n",
      "        . Data type:\t\t\t\t\t dna\n",
      "        . Alphabet size:\t\t\t\t 4\n",
      "        . Sequence format:\t\t\t\t interleaved\n",
      "        . Number of data sets:\t\t\t\t 1\n",
      "        . Nb of bootstrapped data sets:\t\t\t 0\n",
      "        . Compute approximate likelihood ratio test:\t yes (aLRT statistics)\n",
      "        . Model name:\t\t\t\t\t GTR\n",
      "        . Proportion of invariable sites:\t\t 0.000000\n",
      "        . Number of subst. rate catgs:\t\t\t 4\n",
      "        . Gamma distribution parameter:\t\t\t estimated\n",
      "        . 'Middle' of each rate class:\t\t\t mean\n",
      "        . Nucleotide equilibrium frequencies:\t\t empirical\n",
      "        . Optimise tree topology:\t\t\t yes\n",
      "        . Starting tree:\t\t\t\t BioNJ\n",
      "        . Add random input tree:\t\t\t no\n",
      "        . Optimise branch lengths:\t\t\t yes\n",
      "        . Minimum length of an edge:\t\t\t 1e-08\n",
      "        . Optimise substitution model parameters:\t yes\n",
      "        . Run ID:\t\t\t\t\t none\n",
      "        . Random seed:\t\t\t\t\t 1638330621\n",
      "        . Subtree patterns aliasing:\t\t\t no\n",
      "        . Version:\t\t\t\t\t 3.3.20190909\n",
      "        . Byte alignment:\t\t\t\t 16\n",
      "        . AVX enabled:\t\t\t\t\t no\n",
      "        . SSE enabled:\t\t\t\t\t yes\n",
      "\n",
      "  ////////////////////////////////////.\\\\\\\\\\\\\\\\\\\\\\\\\\\\\\\\\\\\\\\\\\\\\\\\\\\\\\\\\\\\\\\\\\\\\\\\\\\\\\\\\\\\\n",
      "  \\\\\\\\\\\\\\\\\\\\\\\\\\\\\\\\\\\\\\\\\\\\\\\\\\\\\\\\\\\\\\\\\\\\\\\\.//////////////////////////////////////////\n",
      "\n",
      "\n",
      "\n",
      ". 326 patterns found (out of a total of 503 sites). \n",
      "\n",
      ". 100 sites without polymorphism (19.88%).\n",
      "\n",
      "\n",
      ". Computing pairwise distances...\n",
      "\n",
      ". Building BioNJ tree...\n",
      "\n",
      ". This analysis requires at least 6 MB of memory space.\n",
      "\n",
      "\n",
      ". Score of initial tree: -5913.87\n",
      "\n",
      ". Starting first round of SPRs...\n",
      "\n",
      "\t       2s |   1 | lnL=     -5415.4 | depth=    4/   40 | improvements=  27 | delta_lnL=   29.1/ 1000.0   +\n",
      "\t       3s |   2 | lnL=     -5424.7 | depth=    4/   24 | improvements=  24 | delta_lnL=   12.1/ 1000.0  \n",
      "\t       4s |   3 | lnL=     -5411.2 | depth=    2/   14 | improvements=  21 | delta_lnL=    7.5/ 1000.0   +\n",
      "\t       4s |   4 | lnL=     -5438.0 | depth=    5/    8 | improvements=  24 | delta_lnL=   22.1/ 1000.0  \n",
      "\t       5s |   5 | lnL=     -5420.5 | depth=    8/   11 | improvements=  18 | delta_lnL=   27.0/ 1000.0  \n",
      "\t       6s |   6 | lnL=     -5416.7 | depth=    3/   14 | improvements=  18 | delta_lnL=   11.7/   58.2  \n",
      "\t       6s |   7 | lnL=     -5428.5 | depth=    3/    9 | improvements=  26 | delta_lnL=    5.0/   58.2  \n",
      "\t       7s |   8 | lnL=     -5428.4 | depth=    3/    9 | improvements=  21 | delta_lnL=    9.8/   58.2  \n",
      "\t       7s |   9 | lnL=     -5418.8 | depth=    3/    9 | improvements=  26 | delta_lnL=   13.3/   58.2  \n",
      "\t       8s |  10 | lnL=     -5413.4 | depth=    3/    9 | improvements=  16 | delta_lnL=    6.1/   50.0  \n",
      "\t       9s |  11 | lnL=     -5413.8 | depth=    1/    9 | improvements=  18 | delta_lnL=    0.0/   50.0  \n",
      "\t       9s |  12 | lnL=     -5410.9 | depth=    2/    7 | improvements=   6 | delta_lnL=    6.0/   50.0   +\n",
      "\n",
      ". Second round of optimization...\n",
      "\n",
      "\t      10s |  13 | lnL=     -5420.2 | depth=    8/   12 | improvements=  18 | delta_lnL=    2.4/   50.0  \n",
      "\t      10s |  14 | lnL=     -5414.4 | depth=    4/   12 | improvements=  20 | delta_lnL=    2.5/   20.0  \n",
      "\t      10s |  15 | lnL=     -5420.6 | depth=    4/    9 | improvements=  14 | delta_lnL=    3.6/   20.0  \n",
      "\t      11s |  16 | lnL=     -5409.1 | depth=    3/    8 | improvements=  18 | delta_lnL=    3.8/   20.0   +\n",
      "\t      11s |  17 | lnL=     -5407.8 | depth=    1/    7 | improvements=   8 | delta_lnL=    0.0/   20.0   +\n",
      "\t      12s |  18 | lnL=     -5410.3 | depth=    2/    5 | improvements=  12 | delta_lnL=   19.3/   20.0  \n",
      "\t      12s |  19 | lnL=     -5421.6 | depth=    3/    6 | improvements=  15 | delta_lnL=    3.5/   20.0  \n",
      "\t      13s |  20 | lnL=     -5414.3 | depth=    3/    7 | improvements=  13 | delta_lnL=    4.6/   20.0  \n",
      "\t      31s |  21 | lnL=     -5398.0 | depth=    2/    7 | improvements=  11 | delta_lnL=    0.7/   20.0   +\n",
      "\t      32s |  22 | lnL=     -5398.1 | depth=    3/    6 | improvements=  14 | delta_lnL=   14.7/   38.6  \n",
      "\t      32s |  23 | lnL=     -5399.2 | depth=    2/    7 | improvements=  11 | delta_lnL=    3.8/   38.6  \n",
      "\t      32s |  24 | lnL=     -5394.7 | depth=    4/    6 | improvements=  12 | delta_lnL=    1.8/   38.6   +\n",
      "\t      33s |  25 | lnL=     -5395.8 | depth=    1/    8 | improvements=   6 | delta_lnL=    0.0/   38.6  \n",
      "\t      33s |  26 | lnL=     -5400.2 | depth=    4/    6 | improvements=  11 | delta_lnL=   16.5/   29.5  \n",
      "\t      34s |  27 | lnL=     -5394.9 | depth=    5/    8 | improvements=  11 | delta_lnL=    5.3/   29.5  \n",
      "\t      34s |  28 | lnL=     -5398.3 | depth=    3/    9 | improvements=  13 | delta_lnL=    2.0/   29.5  \n",
      "\t      35s |  29 | lnL=     -5396.8 | depth=    2/    7 | improvements=  12 | delta_lnL=    1.9/   29.5  \n",
      "\t      35s |  30 | lnL=     -5399.6 | depth=    3/    6 | improvements=  10 | delta_lnL=    2.7/   33.1  \n",
      "\t      36s |  31 | lnL=     -5396.0 | depth=    7/    7 | improvements=   8 | delta_lnL=    3.8/   33.1  \n",
      "\t      36s |  32 | lnL=     -5394.7 | depth=    9/   11 | improvements=   6 | delta_lnL=    0.4/   33.1  \n",
      "\t      37s |  33 | lnL=     -5394.6 | depth=   13/   13 | improvements=  11 | delta_lnL=   12.3/   33.1   +\n",
      "\t      37s |  34 | lnL=     -5394.5 | depth=   11/   17 | improvements=   6 | delta_lnL=    4.0/   20.0   +\n",
      "\t      38s |  35 | lnL=     -5393.5 | depth=    0/   15 | improvements=   1 | delta_lnL=    0.0/   20.0   +\n",
      "\n",
      ". Third round of optimization...\n",
      "\n",
      "\t      39s |  36 | lnL=     -5392.9 | depth=    1/   12 | improvements=   1 | delta_lnL=    0.0/  100.0 | triple moves=   5   +\n",
      "\t      41s |  37 | lnL=     -5392.1 | depth=    1/    9 | improvements=   1 | delta_lnL=    0.0/  100.0 | triple moves=   5   +\n",
      "\t      43s |  38 | lnL=     -5392.0 | depth=    4/    7 | improvements=   2 | delta_lnL=    0.1/  100.0 | triple moves=   5   +\n",
      "\t      44s |  39 | lnL=     -5392.0 | depth=    0/    8 | improvements=   1 | delta_lnL=    0.0/  100.0 | triple moves=   5   +\n",
      "\t      46s |  40 | lnL=     -5392.0 | depth=    0/    6 | improvements=   0 | delta_lnL=    0.0/  100.0 | triple moves=   5   +\n",
      "\n",
      ". Final optimisation steps...\n",
      "\n",
      "\n",
      ". Log likelihood of the current tree: -5391.395180993058602325618.\n",
      "\n",
      ". Calculating fast branch supports (using 'aLRT').\n",
      "\n",
      ". Printing the most likely tree in file 'coi_bird.phy_phyml_tree.txt'.\n",
      "\n",
      ". Time used 0h0m50s\n",
      "\n",
      "oooooooooooooooooooooooooooooooooooooooooooooooooooooooooooooooooooooooooooooooooooooooooooooooo\n"
     ]
    }
   ],
   "source": [
    "!phyml -i coi_bird.phy -d nt -b -1 -m GTR"
   ]
  },
  {
   "cell_type": "code",
   "execution_count": 8,
   "metadata": {},
   "outputs": [
    {
     "name": "stdout",
     "output_type": "stream",
     "text": [
      "\n",
      "\n",
      ". Command line: phyml -i cytb_bird.phy -d nt -b -1 -m GTR \n",
      "\n",
      "\n",
      "\n",
      "\n",
      "\n",
      "  ////////////////////////////////////.\\\\\\\\\\\\\\\\\\\\\\\\\\\\\\\\\\\\\\\\\\\\\\\\\\\\\\\\\\\\\\\\\\\\\\\\\\\\\\\\\\\\\n",
      "  \\\\\\\\\\\\\\\\\\\\\\\\\\\\\\\\\\\\\\\\\\\\\\\\\\\\\\\\\\\\\\\\\\\\\\\\.//////////////////////////////////////////\n",
      "\n",
      "        . Sequence filename:\t\t\t\t cytb_bird.phy\n",
      "        . Data type:\t\t\t\t\t dna\n",
      "        . Alphabet size:\t\t\t\t 4\n",
      "        . Sequence format:\t\t\t\t interleaved\n",
      "        . Number of data sets:\t\t\t\t 1\n",
      "        . Nb of bootstrapped data sets:\t\t\t 0\n",
      "        . Compute approximate likelihood ratio test:\t yes (aLRT statistics)\n",
      "        . Model name:\t\t\t\t\t GTR\n",
      "        . Proportion of invariable sites:\t\t 0.000000\n",
      "        . Number of subst. rate catgs:\t\t\t 4\n",
      "        . Gamma distribution parameter:\t\t\t estimated\n",
      "        . 'Middle' of each rate class:\t\t\t mean\n",
      "        . Nucleotide equilibrium frequencies:\t\t empirical\n",
      "        . Optimise tree topology:\t\t\t yes\n",
      "        . Starting tree:\t\t\t\t BioNJ\n",
      "        . Add random input tree:\t\t\t no\n",
      "        . Optimise branch lengths:\t\t\t yes\n",
      "        . Minimum length of an edge:\t\t\t 1e-08\n",
      "        . Optimise substitution model parameters:\t yes\n",
      "        . Run ID:\t\t\t\t\t none\n",
      "        . Random seed:\t\t\t\t\t 1638330994\n",
      "        . Subtree patterns aliasing:\t\t\t no\n",
      "        . Version:\t\t\t\t\t 3.3.20190909\n",
      "        . Byte alignment:\t\t\t\t 16\n",
      "        . AVX enabled:\t\t\t\t\t no\n",
      "        . SSE enabled:\t\t\t\t\t yes\n",
      "\n",
      "  ////////////////////////////////////.\\\\\\\\\\\\\\\\\\\\\\\\\\\\\\\\\\\\\\\\\\\\\\\\\\\\\\\\\\\\\\\\\\\\\\\\\\\\\\\\\\\\\n",
      "  \\\\\\\\\\\\\\\\\\\\\\\\\\\\\\\\\\\\\\\\\\\\\\\\\\\\\\\\\\\\\\\\\\\\\\\\.//////////////////////////////////////////\n",
      "\n",
      "\n",
      "\n",
      ". 401 patterns found (out of a total of 1507 sites). \n",
      "\n",
      ". 927 sites without polymorphism (61.51%).\n",
      "\n",
      "\n",
      ". Computing pairwise distances...\n",
      "\n",
      ". Building BioNJ tree...\n",
      "\n",
      ". Note: taxon 'Mimus_polyglottos' is a duplicate of taxon 'Toxostoma_rufum'.\n",
      "\n",
      ". This analysis requires at least 7 MB of memory space.\n",
      "\n",
      "\n",
      ". Score of initial tree: -8353.52\n",
      "\n",
      ". Starting first round of SPRs...\n",
      "\n",
      "\t       3s |   1 | lnL=     -7945.0 | depth=    6/   40 | improvements=  20 | delta_lnL=  131.7/ 1000.0  \n",
      "\t       4s |   2 | lnL=     -7935.9 | depth=    4/   24 | improvements=  29 | delta_lnL=   68.9/ 1000.0   +\n",
      "\t       5s |   3 | lnL=     -7934.4 | depth=    3/   14 | improvements=  31 | delta_lnL=   44.6/ 1000.0   +\n",
      "\t       6s |   4 | lnL=     -7927.4 | depth=    3/    9 | improvements=  34 | delta_lnL=   45.1/ 1000.0   +\n",
      "\t       7s |   5 | lnL=     -7936.8 | depth=    3/    9 | improvements=  20 | delta_lnL=   31.7/ 1000.0  \n",
      "\t       8s |   6 | lnL=     -7938.6 | depth=    5/    9 | improvements=  32 | delta_lnL=   39.3/  263.3  \n",
      "\t      10s |   7 | lnL=     -7937.0 | depth=    4/   11 | improvements=  32 | delta_lnL=   13.5/  263.3  \n",
      "\t      10s |   8 | lnL=     -7927.3 | depth=    6/   10 | improvements=  28 | delta_lnL=   29.9/  263.3   +\n",
      "\t      12s |   9 | lnL=     -7930.3 | depth=    8/   12 | improvements=  32 | delta_lnL=   11.7/  263.3  \n",
      "\t      13s |  10 | lnL=     -7937.7 | depth=    5/   14 | improvements=  24 | delta_lnL=   11.6/   78.7  \n",
      "\t      14s |  11 | lnL=     -7929.0 | depth=    3/   11 | improvements=  11 | delta_lnL=   15.6/   78.7  \n",
      "\n",
      ". Second round of optimization...\n",
      "\n",
      "\t      14s |  12 | lnL=     -7941.9 | depth=    6/   13 | improvements=  27 | delta_lnL=   31.7/   78.7  \n",
      "\t      15s |  13 | lnL=     -7915.2 | depth=    3/   10 | improvements=  18 | delta_lnL=   68.4/   78.7   +\n",
      "\t      16s |  14 | lnL=     -7909.7 | depth=    3/    8 | improvements=  18 | delta_lnL=    2.9/   63.3   +\n",
      "\t      16s |  15 | lnL=     -7910.5 | depth=    1/    7 | improvements=  15 | delta_lnL=    0.0/   63.3  \n",
      "\t      17s |  16 | lnL=     -7911.0 | depth=    3/    5 | improvements=  11 | delta_lnL=    3.7/   63.3  \n",
      "\t      17s |  17 | lnL=     -7923.0 | depth=    4/    7 | improvements=  16 | delta_lnL=    7.9/   63.3  \n",
      "\t      18s |  18 | lnL=     -7910.5 | depth=    5/    8 | improvements=  11 | delta_lnL=    4.0/   20.0  \n",
      "\t      18s |  19 | lnL=     -7912.4 | depth=    1/    9 | improvements=  16 | delta_lnL=    0.0/   20.0  \n",
      "\t      18s |  20 | lnL=     -7914.6 | depth=    2/    7 | improvements=  18 | delta_lnL=    3.4/   20.0  \n",
      "\t      20s |  21 | lnL=     -7905.2 | depth=    3/    6 | improvements=  14 | delta_lnL=    4.2/   20.0   +\n",
      "\t      20s |  22 | lnL=     -7907.9 | depth=    3/    7 | improvements=  13 | delta_lnL=    8.2/   20.0  \n",
      "\t      20s |  23 | lnL=     -7912.4 | depth=    1/    7 | improvements=  16 | delta_lnL=    0.0/   20.0  \n",
      "\t      21s |  24 | lnL=     -7905.5 | depth=    4/    5 | improvements=   9 | delta_lnL=    2.1/   20.0  \n",
      "\t      21s |  25 | lnL=     -7917.0 | depth=    3/    8 | improvements=  17 | delta_lnL=    5.5/   20.0  \n",
      "\t      22s |  26 | lnL=     -7919.1 | depth=    2/    7 | improvements=  11 | delta_lnL=    0.6/   20.0  \n",
      "\t      22s |  27 | lnL=     -7912.0 | depth=    3/    6 | improvements=  14 | delta_lnL=    3.6/   20.0  \n",
      "\t      22s |  28 | lnL=     -7911.2 | depth=    4/    7 | improvements=  12 | delta_lnL=   25.3/   20.0  \n",
      "\t      23s |  29 | lnL=     -7904.6 | depth=    2/    8 | improvements=   9 | delta_lnL=    3.0/   20.0   +\n",
      "\t      23s |  30 | lnL=     -7905.9 | depth=    2/    6 | improvements=   5 | delta_lnL=    5.1/   50.6  \n",
      "\n",
      ". Third round of optimization...\n",
      "\n",
      "\t      26s |  31 | lnL=     -7901.4 | depth=    2/   10 | improvements=   8 | delta_lnL=    1.5/  100.0 | triple moves=   5   +\n",
      "\t      28s |  32 | lnL=     -7901.3 | depth=    1/    8 | improvements=   1 | delta_lnL=    0.0/  100.0 | triple moves=   5   +\n",
      "\t      30s |  33 | lnL=     -7901.3 | depth=    0/    6 | improvements=   0 | delta_lnL=    0.0/  100.0 | triple moves=   5   +\n",
      "\n",
      ". Final optimisation steps...\n",
      "\n",
      "\n",
      ". Log likelihood of the current tree: -7901.255992122466523142066.\n",
      "\n",
      ". Calculating fast branch supports (using 'aLRT').\n",
      "\n",
      ". Printing the most likely tree in file 'cytb_bird.phy_phyml_tree.txt'.\n",
      "\n",
      ". Time used 0h0m32s\n",
      "\n",
      "oooooooooooooooooooooooooooooooooooooooooooooooooooooooooooooooooooooooooooooooooooooooooooooooo\n"
     ]
    }
   ],
   "source": [
    "!phyml -i cytb_bird.phy -d nt -b -1 -m GTR"
   ]
  },
  {
   "cell_type": "code",
   "execution_count": 3,
   "metadata": {},
   "outputs": [
    {
     "name": "stdout",
     "output_type": "stream",
     "text": [
      "\n",
      "\n",
      ". Command line: phyml -i coi_cytb_bird.phy -d nt -b -1 -m GTR \n",
      "\n",
      "\n",
      "\n",
      "\n",
      "\n",
      "  ////////////////////////////////////.\\\\\\\\\\\\\\\\\\\\\\\\\\\\\\\\\\\\\\\\\\\\\\\\\\\\\\\\\\\\\\\\\\\\\\\\\\\\\\\\\\\\\n",
      "  \\\\\\\\\\\\\\\\\\\\\\\\\\\\\\\\\\\\\\\\\\\\\\\\\\\\\\\\\\\\\\\\\\\\\\\\.//////////////////////////////////////////\n",
      "\n",
      "        . Sequence filename:\t\t\t\t coi_cytb_bird.phy\n",
      "        . Data type:\t\t\t\t\t dna\n",
      "        . Alphabet size:\t\t\t\t 4\n",
      "        . Sequence format:\t\t\t\t interleaved\n",
      "        . Number of data sets:\t\t\t\t 1\n",
      "        . Nb of bootstrapped data sets:\t\t\t 0\n",
      "        . Compute approximate likelihood ratio test:\t yes (aLRT statistics)\n",
      "        . Model name:\t\t\t\t\t GTR\n",
      "        . Proportion of invariable sites:\t\t 0.000000\n",
      "        . Number of subst. rate catgs:\t\t\t 4\n",
      "        . Gamma distribution parameter:\t\t\t estimated\n",
      "        . 'Middle' of each rate class:\t\t\t mean\n",
      "        . Nucleotide equilibrium frequencies:\t\t empirical\n",
      "        . Optimise tree topology:\t\t\t yes\n",
      "        . Starting tree:\t\t\t\t BioNJ\n",
      "        . Add random input tree:\t\t\t no\n",
      "        . Optimise branch lengths:\t\t\t yes\n",
      "        . Minimum length of an edge:\t\t\t 1e-08\n",
      "        . Optimise substitution model parameters:\t yes\n",
      "        . Run ID:\t\t\t\t\t none\n",
      "        . Random seed:\t\t\t\t\t 1638337195\n",
      "        . Subtree patterns aliasing:\t\t\t no\n",
      "        . Version:\t\t\t\t\t 3.3.20190909\n",
      "        . Byte alignment:\t\t\t\t 16\n",
      "        . AVX enabled:\t\t\t\t\t no\n",
      "        . SSE enabled:\t\t\t\t\t yes\n",
      "\n",
      "  ////////////////////////////////////.\\\\\\\\\\\\\\\\\\\\\\\\\\\\\\\\\\\\\\\\\\\\\\\\\\\\\\\\\\\\\\\\\\\\\\\\\\\\\\\\\\\\\n",
      "  \\\\\\\\\\\\\\\\\\\\\\\\\\\\\\\\\\\\\\\\\\\\\\\\\\\\\\\\\\\\\\\\\\\\\\\\.//////////////////////////////////////////\n",
      "\n",
      "\n",
      "\n",
      ". 903 patterns found (out of a total of 903 sites). \n",
      "\n",
      ". 0 sites without polymorphism (0.00%).\n",
      "\n",
      "\n",
      ". Computing pairwise distances...\n",
      "\n",
      ". Building BioNJ tree...\n",
      "\n",
      ". This analysis requires at least 15 MB of memory space.\n",
      "\n",
      "\n",
      ". Score of initial tree: -28809.17\n",
      "\n",
      ". Starting first round of SPRs...\n",
      "\n",
      "\t       6s |   1 | lnL=    -27437.5 | depth=    5/   40 | improvements=  32 | delta_lnL=   20.0/ 1000.0  \n",
      "\t       8s |   2 | lnL=    -27394.7 | depth=    2/   24 | improvements=  24 | delta_lnL=   10.5/ 1000.0   +\n",
      "\t      10s |   3 | lnL=    -27409.8 | depth=    5/   14 | improvements=  26 | delta_lnL=  146.2/ 1000.0  \n",
      "\t      12s |   4 | lnL=    -27438.5 | depth=    7/   11 | improvements=  21 | delta_lnL=   67.5/ 1000.0  \n",
      "\t      14s |   5 | lnL=    -27432.4 | depth=    5/   13 | improvements=  30 | delta_lnL=  197.4/ 1000.0  \n",
      "\t      15s |   6 | lnL=    -27452.7 | depth=    8/   11 | improvements=  25 | delta_lnL=   36.1/  292.4  \n",
      "\t      16s |   7 | lnL=    -27421.7 | depth=    8/   14 | improvements=  33 | delta_lnL=   14.0/  292.4  \n",
      "\t      18s |   8 | lnL=    -27412.0 | depth=    4/   14 | improvements=  26 | delta_lnL=   61.6/  292.4  \n",
      "\t      19s |   9 | lnL=    -27397.2 | depth=    4/   10 | improvements=  19 | delta_lnL=   58.3/  292.4  \n",
      "\t      21s |  10 | lnL=    -27407.9 | depth=    6/   10 | improvements=  27 | delta_lnL=   72.4/  123.3  \n",
      "\t      23s |  11 | lnL=    -27405.6 | depth=    3/   12 | improvements=  12 | delta_lnL=   11.4/  123.3  \n",
      "\n",
      ". Second round of optimization...\n",
      "\n",
      "\t      24s |  12 | lnL=    -27392.7 | depth=    5/   13 | improvements=  26 | delta_lnL=   76.6/  123.3   +\n",
      "\t      25s |  13 | lnL=    -27421.5 | depth=   10/   10 | improvements=  28 | delta_lnL=   25.8/  123.3  \n",
      "\t      27s |  14 | lnL=    -27391.8 | depth=    8/   14 | improvements=  30 | delta_lnL=   21.7/  153.3   +\n",
      "\t      28s |  15 | lnL=    -27417.3 | depth=    9/   12 | improvements=  31 | delta_lnL=  113.7/  153.3  \n",
      "\t      29s |  16 | lnL=    -27398.4 | depth=    8/   13 | improvements=  30 | delta_lnL=   36.4/  153.3  \n",
      "\t      30s |  17 | lnL=    -27398.4 | depth=    3/   12 | improvements=  23 | delta_lnL=    8.7/  153.3  \n",
      "\t      31s |  18 | lnL=    -27398.6 | depth=    5/    9 | improvements=  26 | delta_lnL=  312.9/  227.4  \n",
      "\t      32s |  19 | lnL=    -27406.3 | depth=    4/    9 | improvements=  20 | delta_lnL=   18.1/  227.4  \n",
      "\t      34s |  20 | lnL=    -27395.3 | depth=    6/    8 | improvements=  32 | delta_lnL=   36.6/  227.4  \n",
      "\t      47s |  21 | lnL=    -27363.0 | depth=    8/   10 | improvements=  25 | delta_lnL=   58.1/  227.4   +\n",
      "\t      48s |  22 | lnL=    -27360.4 | depth=    4/   12 | improvements=  19 | delta_lnL=   47.4/  625.7   +\n",
      "\t      49s |  23 | lnL=    -27360.4 | depth=    4/    9 | improvements=  20 | delta_lnL=    7.4/  625.7  \n",
      "\t      51s |  24 | lnL=    -27363.7 | depth=    3/    8 | improvements=  26 | delta_lnL=    8.7/  625.7  \n",
      "\t      52s |  25 | lnL=    -27354.1 | depth=    2/    7 | improvements=  21 | delta_lnL=    1.5/  625.7   +\n",
      "\t      53s |  26 | lnL=    -27365.0 | depth=    4/    6 | improvements=  19 | delta_lnL=   26.7/   94.8  \n",
      "\t      55s |  27 | lnL=    -27367.9 | depth=    3/    8 | improvements=  20 | delta_lnL=   51.0/   94.8  \n",
      "\t      56s |  28 | lnL=    -27369.2 | depth=    5/    7 | improvements=  20 | delta_lnL=    4.6/   94.8  \n",
      "\t      57s |  29 | lnL=    -27375.1 | depth=    4/    9 | improvements=  11 | delta_lnL=    6.3/   94.8  \n",
      "\t      59s |  30 | lnL=    -27368.3 | depth=    3/    8 | improvements=  15 | delta_lnL=    0.0/  102.1  \n",
      "\t      67s |  31 | lnL=    -27375.1 | depth=    3/    7 | improvements=  19 | delta_lnL=   16.9/  102.1  \n",
      "\t      68s |  32 | lnL=    -27392.6 | depth=    2/    7 | improvements=  23 | delta_lnL=    9.6/  102.1  \n",
      "\t      69s |  33 | lnL=    -27371.7 | depth=    6/    6 | improvements=  18 | delta_lnL=   16.4/  102.1  \n",
      "\t      70s |  34 | lnL=    -27373.1 | depth=    6/   10 | improvements=  16 | delta_lnL=    0.6/   33.8  \n",
      "\n",
      ". Third round of optimization...\n",
      "\n",
      "\t      74s |  35 | lnL=    -27348.5 | depth=    7/   10 | improvements=  22 | delta_lnL=    6.7/  100.0 | triple moves=   5   +\n",
      "\t      78s |  36 | lnL=    -27348.2 | depth=    6/   14 | improvements=   2 | delta_lnL=    0.2/  100.0 | triple moves=   6   +\n",
      "\t      82s |  37 | lnL=    -27347.9 | depth=    2/   12 | improvements=   1 | delta_lnL=    0.1/  100.0 | triple moves=   5   +\n",
      "\t      86s |  38 | lnL=    -27347.6 | depth=    0/    9 | improvements=   1 | delta_lnL=    0.0/  100.0 | triple moves=   5   +\n",
      "\t      90s |  39 | lnL=    -27347.5 | depth=    0/    7 | improvements=   1 | delta_lnL=    0.0/  100.0 | triple moves=   5   +\n",
      "\t      94s |  40 | lnL=    -27347.5 | depth=    0/    5 | improvements=   1 | delta_lnL=    0.0/  100.0 | triple moves=   5   +\n",
      "\t     101s |  41 | lnL=    -27346.9 | depth=    0/    5 | improvements=   1 | delta_lnL=    0.0/  100.0 | triple moves=   5   +\n",
      "\t     107s |  42 | lnL=    -27346.9 | depth=    0/    5 | improvements=   0 | delta_lnL=    0.0/  100.0 | triple moves=   5   +\n",
      "\n",
      ". Final optimisation steps...\n",
      "\n",
      "\n",
      ". Log likelihood of the current tree: -27346.636329107339406618848.\n",
      "\n",
      ". Calculating fast branch supports (using 'aLRT').\n",
      "\n",
      ". Printing the most likely tree in file 'coi_cytb_bird.phy_phyml_tree.txt'.\n",
      "\n",
      ". Time used 0h2m17s\n",
      "\n",
      "oooooooooooooooooooooooooooooooooooooooooooooooooooooooooooooooooooooooooooooooooooooooooooooooo\n"
     ]
    }
   ],
   "source": [
    "!phyml -i coi_cytb_bird.phy -d nt -b -1 -m GTR"
   ]
  },
  {
   "cell_type": "markdown",
   "metadata": {},
   "source": [
    "# Plotting the Tree"
   ]
  },
  {
   "cell_type": "code",
   "execution_count": null,
   "metadata": {},
   "outputs": [],
   "source": [
    "#run r_phytools_script.R "
   ]
  },
  {
   "cell_type": "markdown",
   "metadata": {},
   "source": [
    "# Re root the Tree"
   ]
  },
  {
   "cell_type": "code",
   "execution_count": 7,
   "metadata": {},
   "outputs": [],
   "source": [
    "# need to do that still, re run data but with crocodile Crocodylus acutus data"
   ]
  },
  {
   "cell_type": "markdown",
   "metadata": {},
   "source": [
    "# Mapping Discrete Characters on the tree"
   ]
  },
  {
   "cell_type": "code",
   "execution_count": null,
   "metadata": {},
   "outputs": [],
   "source": []
  },
  {
   "cell_type": "code",
   "execution_count": null,
   "metadata": {},
   "outputs": [],
   "source": [
    "#final tree would includes all three genes, because it come for mitochondra and there's no recombination so we could use it as single "
   ]
  }
 ],
 "metadata": {
  "kernelspec": {
   "display_name": "Python 3",
   "language": "python",
   "name": "python3"
  },
  "language_info": {
   "codemirror_mode": {
    "name": "ipython",
    "version": 3
   },
   "file_extension": ".py",
   "mimetype": "text/x-python",
   "name": "python",
   "nbconvert_exporter": "python",
   "pygments_lexer": "ipython3",
   "version": "3.8.5"
  }
 },
 "nbformat": 4,
 "nbformat_minor": 4
}
