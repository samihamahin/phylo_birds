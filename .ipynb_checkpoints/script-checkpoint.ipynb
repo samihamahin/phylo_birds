{
 "cells": [
  {
   "cell_type": "code",
   "execution_count": 6,
   "metadata": {},
   "outputs": [],
   "source": [
    "# to install Entrez direct, please use this command line code in bash: !sh -c \"$(curl -fsSL ftp://ftp.ncbi.nlm.nih.gov/entrez/entrezdirect/install-edirect.sh)\""
   ]
  },
  {
   "cell_type": "code",
   "execution_count": null,
   "metadata": {},
   "outputs": [
    {
     "name": "stdout",
     "output_type": "stream",
     "text": [
      "Collecting package metadata (current_repodata.json): done\n",
      "Solving environment: \\ "
     ]
    }
   ],
   "source": [
    "!conda install --yes -c bioconda entrez-direct"
   ]
  },
  {
   "cell_type": "code",
   "execution_count": 11,
   "metadata": {},
   "outputs": [
    {
     "name": "stdout",
     "output_type": "stream",
     "text": [
      "^C\r\n"
     ]
    }
   ],
   "source": [
    "!for i in `cat ID_coi.txt`; do esearch -db nucleotide -query \"$i\" | efetch -format fasta > \"$i\".fasta; done"
   ]
  },
  {
   "cell_type": "code",
   "execution_count": null,
   "metadata": {},
   "outputs": [],
   "source": [
    "!cat *fasta > coi_bird.fa"
   ]
  },
  {
   "cell_type": "code",
   "execution_count": 1,
   "metadata": {},
   "outputs": [],
   "source": [
    "#delete all of the created fasta files that are now concated into coi_bird.fa\n",
    "!rm *[1-9]*.fasta"
   ]
  },
  {
   "cell_type": "code",
   "execution_count": null,
   "metadata": {},
   "outputs": [],
   "source": [
    "!for i in `cat ID_cytb.txt`; do esearch -db nucleotide -query \"$i\" | efetch -format fasta > \"$i\".fasta; done"
   ]
  },
  {
   "cell_type": "code",
   "execution_count": null,
   "metadata": {},
   "outputs": [],
   "source": [
    "!cat *fasta > cytb_bird.fa"
   ]
  },
  {
   "cell_type": "code",
   "execution_count": null,
   "metadata": {},
   "outputs": [],
   "source": [
    "!rm *[1-9]*.fasta"
   ]
  },
  {
   "cell_type": "markdown",
   "metadata": {},
   "source": [
    "## Creating Fasta Files for IDs"
   ]
  },
  {
   "cell_type": "code",
   "execution_count": 7,
   "metadata": {},
   "outputs": [
    {
     "name": "stdout",
     "output_type": "stream",
     "text": [
      "/bin/bash: esearch: command not found\n",
      "/bin/bash: efetch: command not found\n",
      "/bin/bash: esearch: command not found\n",
      "/bin/bash: efetch: command not found\n",
      "/bin/bash: esearch: command not found\n",
      "/bin/bash: efetch: command not found\n",
      "/bin/bash: efetch: command not found\n",
      "/bin/bash: esearch: command not found\n",
      "/bin/bash: esearch: command not found\n",
      "/bin/bash: efetch: command not found\n",
      "/bin/bash: esearch: command not found\n",
      "/bin/bash: efetch: command not found\n",
      "/bin/bash: esearch: command not found\n",
      "/bin/bash: efetch: command not found\n",
      "/bin/bash: esearch: command not found\n",
      "/bin/bash: efetch: command not found\n",
      "/bin/bash: esearch: command not found\n",
      "/bin/bash: efetch: command not found\n",
      "/bin/bash: esearch: command not found\n",
      "/bin/bash: efetch: command not found\n",
      "/bin/bash: esearch: command not found\n",
      "/bin/bash: efetch: command not found\n",
      "/bin/bash: esearch: command not found\n",
      "/bin/bash: efetch: command not found\n",
      "/bin/bash: esearch: command not found\n",
      "/bin/bash: efetch: command not found\n",
      "/bin/bash: esearch: command not found\n",
      "/bin/bash: efetch: command not found\n",
      "/bin/bash: esearch: command not found\n",
      "/bin/bash: efetch: command not found\n",
      "/bin/bash: esearch: command not found\n",
      "/bin/bash: efetch: command not found\n",
      "/bin/bash: esearch: command not found\n",
      "/bin/bash: efetch: command not found\n",
      "/bin/bash: esearch: command not found\n",
      "/bin/bash: efetch: command not found\n",
      "/bin/bash: esearch: command not found\n",
      "/bin/bash: efetch: command not found\n",
      "/bin/bash: esearch: command not found\n",
      "/bin/bash: efetch: command not found\n",
      "/bin/bash: esearch: command not found\n",
      "/bin/bash: efetch: command not found\n",
      "/bin/bash: esearch: command not found\n",
      "/bin/bash: efetch: command not found\n",
      "/bin/bash: esearch: command not found\n",
      "/bin/bash: efetch: command not found\n",
      "/bin/bash: esearch: command not found\n",
      "/bin/bash: efetch: command not found\n",
      "/bin/bash: esearch: command not found\n",
      "/bin/bash: efetch: command not found\n",
      "/bin/bash: esearch: command not found\n",
      "/bin/bash: efetch: command not found\n",
      "/bin/bash: esearch: command not found\n",
      "/bin/bash: efetch: command not found\n",
      "/bin/bash: esearch: command not found\n",
      "/bin/bash: efetch: command not found\n",
      "/bin/bash: esearch: command not found\n",
      "/bin/bash: efetch: command not found\n",
      "/bin/bash: esearch: command not found\n",
      "/bin/bash: efetch: command not found\n",
      "/bin/bash: esearch: command not found\n",
      "/bin/bash: efetch: command not found\n",
      "/bin/bash: esearch: command not found\n",
      "/bin/bash: efetch: command not found\n"
     ]
    }
   ],
   "source": [
    "!for i in `cat ID_cox1.txt`; do esearch -db nucleotide -query \"$i\" | efetch -format fasta > \"$i\".fasta; done"
   ]
  },
  {
   "cell_type": "code",
   "execution_count": null,
   "metadata": {},
   "outputs": [],
   "source": [
    "!for i in `cat ID_coi.txt`; do esearch -db nucleotide -query \"$i\" | efetch -format fasta > \"$i\".fasta; done"
   ]
  },
  {
   "cell_type": "code",
   "execution_count": null,
   "metadata": {},
   "outputs": [],
   "source": [
    "!for i in `cat ID_cytb.txt`; do esearch -db nucleotide -query \"$i\" | efetch -format fasta > \"$i\".fasta; done"
   ]
  },
  {
   "cell_type": "code",
   "execution_count": null,
   "metadata": {},
   "outputs": [],
   "source": [
    "with IOS.OpenFile(w, \"\"):\n",
    "    appended_species = []\n",
    "    for each species:\n",
    "        appended_species += [string_coi]\n",
    "        "
   ]
  },
  {
   "cell_type": "code",
   "execution_count": null,
   "metadata": {},
   "outputs": [],
   "source": [
    "#final tree would includes all three genes, because it come for mitochondra and there's no recombination so we could use it as single "
   ]
  }
 ],
 "metadata": {
  "kernelspec": {
   "display_name": "Python 3",
   "language": "python",
   "name": "python3"
  },
  "language_info": {
   "codemirror_mode": {
    "name": "ipython",
    "version": 3
   },
   "file_extension": ".py",
   "mimetype": "text/x-python",
   "name": "python",
   "nbconvert_exporter": "python",
   "pygments_lexer": "ipython3",
   "version": "3.8.5"
  }
 },
 "nbformat": 4,
 "nbformat_minor": 4
}
