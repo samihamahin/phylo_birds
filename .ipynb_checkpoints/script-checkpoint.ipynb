{
 "cells": [
  {
   "cell_type": "markdown",
   "metadata": {},
   "source": [
    "# Import Packages"
   ]
  },
  {
   "cell_type": "code",
   "execution_count": 9,
   "metadata": {},
   "outputs": [
    {
     "name": "stdout",
     "output_type": "stream",
     "text": [
      "Collecting package metadata (current_repodata.json): done\n",
      "Solving environment: done\n",
      "\n",
      "# All requested packages already installed.\n",
      "\n"
     ]
    }
   ],
   "source": [
    "!conda install --yes -c bioconda entrez-direct"
   ]
  },
  {
   "cell_type": "code",
   "execution_count": 36,
   "metadata": {},
   "outputs": [
    {
     "name": "stdout",
     "output_type": "stream",
     "text": [
      "Collecting package metadata (current_repodata.json): done\n",
      "Solving environment: done\n",
      "\n",
      "# All requested packages already installed.\n",
      "\n"
     ]
    }
   ],
   "source": [
    "!conda install --yes -c bioconda mafft"
   ]
  },
  {
   "cell_type": "code",
   "execution_count": 37,
   "metadata": {},
   "outputs": [
    {
     "name": "stdout",
     "output_type": "stream",
     "text": [
      "Collecting package metadata (current_repodata.json): done\n",
      "Solving environment: done\n",
      "\n",
      "# All requested packages already installed.\n",
      "\n"
     ]
    }
   ],
   "source": [
    "!conda install --yes -c conda-forge biopython"
   ]
  },
  {
   "cell_type": "markdown",
   "metadata": {},
   "source": [
    "# Data Acquisition and Cleaning "
   ]
  },
  {
   "cell_type": "code",
   "execution_count": 55,
   "metadata": {},
   "outputs": [],
   "source": [
    "!for i in `cat ID_coi.txt`; do esearch -db nucleotide -query \"$i\" | efetch -format fasta > \"$i\".fasta; done"
   ]
  },
  {
   "cell_type": "code",
   "execution_count": 56,
   "metadata": {},
   "outputs": [],
   "source": [
    "!cat *fasta > coi_bird.fa"
   ]
  },
  {
   "cell_type": "code",
   "execution_count": 57,
   "metadata": {},
   "outputs": [],
   "source": [
    "#delete all of the created fasta files that are now concated into coi_bird.fa\n",
    "!rm *[1-9]*.fasta"
   ]
  },
  {
   "cell_type": "code",
   "execution_count": 58,
   "metadata": {},
   "outputs": [],
   "source": [
    "!for i in `cat ID_cytb.txt`; do esearch -db nucleotide -query \"$i\" | efetch -format fasta > \"$i\".fasta; done"
   ]
  },
  {
   "cell_type": "code",
   "execution_count": 59,
   "metadata": {},
   "outputs": [],
   "source": [
    "!cat *[1-9]*fasta > cytb_bird.fa"
   ]
  },
  {
   "cell_type": "code",
   "execution_count": 60,
   "metadata": {},
   "outputs": [],
   "source": [
    "!rm *[1-9]*.fasta"
   ]
  },
  {
   "cell_type": "code",
   "execution_count": 61,
   "metadata": {},
   "outputs": [],
   "source": [
    "!sed \"s/ /_/g\" coi_bird.fa > out_coi_bird.fa"
   ]
  },
  {
   "cell_type": "code",
   "execution_count": 62,
   "metadata": {},
   "outputs": [],
   "source": [
    "!sed \"s/ /_/g\" cytb_bird.fa > out_cytb_bird.fa"
   ]
  },
  {
   "cell_type": "code",
   "execution_count": 39,
   "metadata": {},
   "outputs": [],
   "source": [
    "!paste coi_names_before.txt coi_names_after.txt | while read -r n k; do sed -i '' \"s/${n}/>${k}/g\" out_coi_bird.fa; done"
   ]
  },
  {
   "cell_type": "code",
   "execution_count": 40,
   "metadata": {},
   "outputs": [],
   "source": [
    "!paste cytb_names_before.txt cytb_names_after.txt | while read -r n k; do sed -i '' \"s/${n}/>${k}/g\" out_cytb_bird.fa; done"
   ]
  },
  {
   "cell_type": "markdown",
   "metadata": {},
   "source": [
    "*Note:* Had to edit the names_before.txt for species **Poecile carolinensis** and **Parkesia motacilla -> Seiurus \n",
    "motacilla** and  **Geothlypis formosa -> Oporornis formosus** to the correct name of the species. Checked that the species is the same as the ones of interest."
   ]
  },
  {
   "cell_type": "markdown",
   "metadata": {},
   "source": [
    "# Alignment using MAFFT"
   ]
  },
  {
   "cell_type": "markdown",
   "metadata": {},
   "source": [
    "## Individial Marker Gene Alignments"
   ]
  },
  {
   "cell_type": "code",
   "execution_count": 41,
   "metadata": {
    "scrolled": true
   },
   "outputs": [
    {
     "name": "stdout",
     "output_type": "stream",
     "text": [
      "nthread = 0\n",
      "nthreadpair = 0\n",
      "nthreadtb = 0\n",
      "ppenalty_ex = 0\n",
      "stacksize: 8192 kb\n",
      "generating a scoring matrix for nucleotide (dist=200) ... done\n",
      "Gap Penalty = -1.53, +0.00, +0.00\n",
      "\n",
      "\n",
      "\n",
      "Making a distance matrix ..\n",
      "\n",
      "There are 19 ambiguous characters.\n",
      "    1 / 33\n",
      "done.\n",
      "\n",
      "Constructing a UPGMA tree (efffree=0) ... \n",
      "   30 / 33\n",
      "done.\n",
      "\n",
      "Progressive alignment 1/2... \n",
      "STEP    32 / 32 \n",
      "done.\n",
      "\n",
      "Making a distance matrix from msa.. \n",
      "    0 / 33\n",
      "done.\n",
      "\n",
      "Constructing a UPGMA tree (efffree=1) ... \n",
      "   30 / 33\n",
      "done.\n",
      "\n",
      "Progressive alignment 2/2... \n",
      "STEP    32 / 32 \n",
      "done.\n",
      "\n",
      "disttbfast (nuc) Version 7.490\n",
      "alg=A, model=DNA200 (2), 1.53 (4.59), -0.00 (-0.00), noshift, amax=0.0\n",
      "0 thread(s)\n",
      "\n",
      "\n",
      "Strategy:\n",
      " FFT-NS-2 (Fast but rough)\n",
      " Progressive method (guide trees were built 2 times.)\n",
      "\n",
      "If unsure which option to use, try 'mafft --auto input > output'.\n",
      "For more information, see 'mafft --help', 'mafft --man' and the mafft page.\n",
      "\n",
      "The default gap scoring scheme has been changed in version 7.110 (2013 Oct).\n",
      "It tends to insert more gaps into gap-rich regions than previous versions.\n",
      "To disable this change, add the --leavegappyregion option.\n",
      "\n"
     ]
    }
   ],
   "source": [
    "!mafft out_coi_bird.fa > align_coi_bird.fa"
   ]
  },
  {
   "cell_type": "code",
   "execution_count": 42,
   "metadata": {
    "scrolled": true
   },
   "outputs": [
    {
     "name": "stdout",
     "output_type": "stream",
     "text": [
      "nthread = 0\n",
      "nthreadpair = 0\n",
      "nthreadtb = 0\n",
      "ppenalty_ex = 0\n",
      "stacksize: 8192 kb\n",
      "generating a scoring matrix for nucleotide (dist=200) ... done\n",
      "Gap Penalty = -1.53, +0.00, +0.00\n",
      "\n",
      "\n",
      "\n",
      "Making a distance matrix ..\n",
      "\n",
      "There are 218 ambiguous characters.\n",
      "    1 / 33\n",
      "done.\n",
      "\n",
      "Constructing a UPGMA tree (efffree=0) ... \n",
      "   30 / 33\n",
      "done.\n",
      "\n",
      "Progressive alignment 1/2... \n",
      "STEP    32 / 32 \n",
      "done.\n",
      "\n",
      "Making a distance matrix from msa.. \n",
      "    0 / 33\n",
      "done.\n",
      "\n",
      "Constructing a UPGMA tree (efffree=1) ... \n",
      "   30 / 33\n",
      "done.\n",
      "\n",
      "Progressive alignment 2/2... \n",
      "STEP    32 / 32 \n",
      "done.\n",
      "\n",
      "disttbfast (nuc) Version 7.490\n",
      "alg=A, model=DNA200 (2), 1.53 (4.59), -0.00 (-0.00), noshift, amax=0.0\n",
      "0 thread(s)\n",
      "\n",
      "\n",
      "Strategy:\n",
      " FFT-NS-2 (Fast but rough)\n",
      " Progressive method (guide trees were built 2 times.)\n",
      "\n",
      "If unsure which option to use, try 'mafft --auto input > output'.\n",
      "For more information, see 'mafft --help', 'mafft --man' and the mafft page.\n",
      "\n",
      "The default gap scoring scheme has been changed in version 7.110 (2013 Oct).\n",
      "It tends to insert more gaps into gap-rich regions than previous versions.\n",
      "To disable this change, add the --leavegappyregion option.\n",
      "\n"
     ]
    }
   ],
   "source": [
    "!mafft out_cytb_bird.fa > align_cytb_bird.fa"
   ]
  },
  {
   "cell_type": "markdown",
   "metadata": {},
   "source": [
    "# Trimming the sequences in order to concatenate sequences for phylo trees"
   ]
  },
  {
   "cell_type": "markdown",
   "metadata": {},
   "source": [
    "![cytbURL](https://media.giphy.com/media/Pw9zylXd4zWOeAhKJJ/giphy.gif \"alignment for cytb gene\")"
   ]
  },
  {
   "cell_type": "markdown",
   "metadata": {},
   "source": [
    "MEGA alignment for cytb gene"
   ]
  },
  {
   "cell_type": "markdown",
   "metadata": {},
   "source": [
    "![coiURL](https://media.giphy.com/media/tdpdyDuc27GedoPxyK/giphy.gif \"alignment for coi gene\")"
   ]
  },
  {
   "cell_type": "markdown",
   "metadata": {},
   "source": [
    "MEGA alignment for coi gene"
   ]
  },
  {
   "cell_type": "markdown",
   "metadata": {},
   "source": [
    "## Concatenating Aligned Trimmed Sequences for coi and cytb marker genes"
   ]
  },
  {
   "cell_type": "code",
   "execution_count": 66,
   "metadata": {},
   "outputs": [],
   "source": [
    "from Bio import SeqIO\n",
    "    \n",
    "def create_seq_dict(file):\n",
    "    seq_dict = {}\n",
    "    for seq_record in SeqIO.parse(file, \"fasta\"):\n",
    "        _id = seq_record.id\n",
    "        _seq = str(seq_record.seq)\n",
    "        seq_dict[_id] = _seq\n",
    "    return seq_dict\n",
    "\n",
    "coi_dict = create_seq_dict(\"align_coi_bird_trimmed.fas\")\n",
    "cytb_dict = create_seq_dict(\"align_cytb_bird_trimmed.fas\")"
   ]
  },
  {
   "cell_type": "markdown",
   "metadata": {},
   "source": [
    "Needed to edit the names of coi names in the align file so that they dictionaries: Parus carolinenes, Thryothorus ludovicianus, Wilsonia citrina"
   ]
  },
  {
   "cell_type": "code",
   "execution_count": 68,
   "metadata": {},
   "outputs": [],
   "source": [
    "coi_cytb_file = open(\"align_coi_cytb_bird_trimmed.fa\", \"w\")\n",
    "\n",
    "for key in coi_dict.keys():\n",
    "    concat_seq = coi_dict[key] + cytb_dict[key]\n",
    "    coi_cytb_file.write(\">\" + key + \"\\n\" + concat_seq + \"\\n\")\n",
    "\n",
    "coi_cytb_file.close()"
   ]
  },
  {
   "cell_type": "markdown",
   "metadata": {},
   "source": [
    "# Constructing the tree"
   ]
  },
  {
   "cell_type": "markdown",
   "metadata": {},
   "source": [
    "## Convert MSA to phy object"
   ]
  },
  {
   "cell_type": "markdown",
   "metadata": {},
   "source": [
    "### install ape library"
   ]
  },
  {
   "cell_type": "code",
   "execution_count": 16,
   "metadata": {},
   "outputs": [
    {
     "name": "stdout",
     "output_type": "stream",
     "text": [
      "Collecting package metadata (current_repodata.json): done\n",
      "Solving environment: failed with initial frozen solve. Retrying with flexible solve.\n",
      "Solving environment: failed with repodata from current_repodata.json, will retry with next repodata source.\n",
      "Collecting package metadata (repodata.json): done\n",
      "Solving environment: done\n",
      "\n",
      "## Package Plan ##\n",
      "\n",
      "  environment location: /Users/SamihaMahin/opt/anaconda3\n",
      "\n",
      "  added / updated specs:\n",
      "    - r-ape\n",
      "\n",
      "\n",
      "The following packages will be downloaded:\n",
      "\n",
      "    package                    |            build\n",
      "    ---------------------------|-----------------\n",
      "    openssl-1.1.1h             |       haf1e3a3_0         1.9 MB  conda-forge\n",
      "    r-ape-3.5                  |         r3.3.1_0         1.3 MB\n",
      "    ------------------------------------------------------------\n",
      "                                           Total:         3.1 MB\n",
      "\n",
      "The following NEW packages will be INSTALLED:\n",
      "\n",
      "  r-ape              pkgs/r/osx-64::r-ape-3.5-r3.3.1_0\n",
      "\n",
      "The following packages will be SUPERSEDED by a higher-priority channel:\n",
      "\n",
      "  openssl                                         pkgs/main --> conda-forge\n",
      "\n",
      "\n",
      "\n",
      "Downloading and Extracting Packages\n",
      "openssl-1.1.1h       | 1.9 MB    | ##################################### | 100% \n",
      "r-ape-3.5            | 1.3 MB    | ##################################### | 100% \n",
      "Preparing transaction: done\n",
      "Verifying transaction: done\n",
      "Executing transaction: done\n"
     ]
    }
   ],
   "source": [
    "!conda install --yes -c conda-forge r-ape"
   ]
  },
  {
   "cell_type": "markdown",
   "metadata": {},
   "source": [
    "### Generate the phy files in the r script in the folder"
   ]
  },
  {
   "cell_type": "code",
   "execution_count": null,
   "metadata": {},
   "outputs": [],
   "source": [
    "#run r_ape_script.R "
   ]
  },
  {
   "cell_type": "markdown",
   "metadata": {},
   "source": [
    "## Constructing Tree using maximum likelihood"
   ]
  },
  {
   "cell_type": "markdown",
   "metadata": {},
   "source": [
    "### install phyml "
   ]
  },
  {
   "cell_type": "code",
   "execution_count": 69,
   "metadata": {},
   "outputs": [
    {
     "name": "stdout",
     "output_type": "stream",
     "text": [
      "Collecting package metadata (current_repodata.json): done\n",
      "Solving environment: done\n",
      "\n",
      "# All requested packages already installed.\n",
      "\n"
     ]
    }
   ],
   "source": [
    "!conda install --yes -c bioconda phyml"
   ]
  },
  {
   "cell_type": "markdown",
   "metadata": {},
   "source": [
    "*Note*: Encountered error that the names of species had a space instead of a underscore so replaced the space with an underscore manually."
   ]
  },
  {
   "cell_type": "code",
   "execution_count": 70,
   "metadata": {},
   "outputs": [
    {
     "name": "stdout",
     "output_type": "stream",
     "text": [
      "\n",
      "\n",
      ". Command line: phyml -i coi_bird.phy -d nt -b -1 -m GTR \n",
      "\n",
      "\n",
      "\n",
      "\n",
      "\n",
      "  ////////////////////////////////////.\\\\\\\\\\\\\\\\\\\\\\\\\\\\\\\\\\\\\\\\\\\\\\\\\\\\\\\\\\\\\\\\\\\\\\\\\\\\\\\\\\\\\n",
      "  \\\\\\\\\\\\\\\\\\\\\\\\\\\\\\\\\\\\\\\\\\\\\\\\\\\\\\\\\\\\\\\\\\\\\\\\.//////////////////////////////////////////\n",
      "\n",
      "        . Sequence filename:\t\t\t\t coi_bird.phy\n",
      "        . Data type:\t\t\t\t\t dna\n",
      "        . Alphabet size:\t\t\t\t 4\n",
      "        . Sequence format:\t\t\t\t interleaved\n",
      "        . Number of data sets:\t\t\t\t 1\n",
      "        . Nb of bootstrapped data sets:\t\t\t 0\n",
      "        . Compute approximate likelihood ratio test:\t yes (aLRT statistics)\n",
      "        . Model name:\t\t\t\t\t GTR\n",
      "        . Proportion of invariable sites:\t\t 0.000000\n",
      "        . Number of subst. rate catgs:\t\t\t 4\n",
      "        . Gamma distribution parameter:\t\t\t estimated\n",
      "        . 'Middle' of each rate class:\t\t\t mean\n",
      "        . Nucleotide equilibrium frequencies:\t\t empirical\n",
      "        . Optimise tree topology:\t\t\t yes\n",
      "        . Starting tree:\t\t\t\t BioNJ\n",
      "        . Add random input tree:\t\t\t no\n",
      "        . Optimise branch lengths:\t\t\t yes\n",
      "        . Minimum length of an edge:\t\t\t 1e-08\n",
      "        . Optimise substitution model parameters:\t yes\n",
      "        . Run ID:\t\t\t\t\t none\n",
      "        . Random seed:\t\t\t\t\t 1638404018\n",
      "        . Subtree patterns aliasing:\t\t\t no\n",
      "        . Version:\t\t\t\t\t 3.3.20190909\n",
      "        . Byte alignment:\t\t\t\t 16\n",
      "        . AVX enabled:\t\t\t\t\t no\n",
      "        . SSE enabled:\t\t\t\t\t yes\n",
      "\n",
      "  ////////////////////////////////////.\\\\\\\\\\\\\\\\\\\\\\\\\\\\\\\\\\\\\\\\\\\\\\\\\\\\\\\\\\\\\\\\\\\\\\\\\\\\\\\\\\\\\n",
      "  \\\\\\\\\\\\\\\\\\\\\\\\\\\\\\\\\\\\\\\\\\\\\\\\\\\\\\\\\\\\\\\\\\\\\\\\.//////////////////////////////////////////\n",
      "\n",
      "\n",
      "\n",
      ". 393 patterns found (out of a total of 393 sites). \n",
      "\n",
      ". 0 sites without polymorphism (0.00%).\n",
      "\n",
      "\n",
      ". Computing pairwise distances...\n",
      "\n",
      ". Building BioNJ tree...\n",
      "\n",
      ". This analysis requires at least 7 MB of memory space.\n",
      "\n",
      "\n",
      ". Score of initial tree: -11079.22\n",
      "\n",
      ". Starting first round of SPRs...\n",
      "\n",
      "\t       4s |   1 | lnL=    -10609.5 | depth=    4/   40 | improvements=  24 | delta_lnL=   11.2/ 1000.0  \n",
      "\t       5s |   2 | lnL=    -10603.9 | depth=    5/   24 | improvements=  20 | delta_lnL=   34.2/ 1000.0  \n",
      "\t       6s |   3 | lnL=    -10607.2 | depth=    4/   14 | improvements=  26 | delta_lnL=  314.4/ 1000.0  \n",
      "\t       8s |   4 | lnL=    -10594.7 | depth=    4/   10 | improvements=  17 | delta_lnL=  156.2/ 1000.0   +\n",
      "\t      10s |   5 | lnL=    -10588.7 | depth=    3/   10 | improvements=  12 | delta_lnL=   12.4/ 1000.0   +\n",
      "\n",
      ". Second round of optimization...\n",
      "\n",
      "\t      11s |   6 | lnL=    -10590.3 | depth=    4/   13 | improvements=  18 | delta_lnL=   21.3/  628.8  \n",
      "\t      11s |   7 | lnL=    -10597.6 | depth=    5/   10 | improvements=  31 | delta_lnL=   24.7/  628.8  \n",
      "\t      12s |   8 | lnL=    -10592.9 | depth=    7/    9 | improvements=  19 | delta_lnL=    9.7/  628.8  \n",
      "\t      13s |   9 | lnL=    -10592.2 | depth=    3/   11 | improvements=  16 | delta_lnL=   56.2/  628.8  \n",
      "\t      13s |  10 | lnL=    -10594.8 | depth=    7/    8 | improvements=  31 | delta_lnL=    3.5/   49.4  \n",
      "\t      18s |  11 | lnL=    -10595.2 | depth=   10/   11 | improvements=  25 | delta_lnL=   19.8/   49.4  \n",
      "\t      19s |  12 | lnL=    -10598.6 | depth=   10/   14 | improvements=  36 | delta_lnL=  691.6/   49.4  \n",
      "\t      19s |  13 | lnL=    -10592.6 | depth=    4/   14 | improvements=  22 | delta_lnL=   14.1/   49.4  \n",
      "\t      20s |  14 | lnL=    -10598.6 | depth=    8/   11 | improvements=  22 | delta_lnL=    6.0/ 1383.2  \n",
      "\t      21s |  15 | lnL=    -10597.2 | depth=    6/   12 | improvements=  30 | delta_lnL=  462.4/ 1383.2  \n",
      "\n",
      ". Third round of optimization...\n",
      "\n",
      "\t      23s |  16 | lnL=    -10586.8 | depth=    7/   10 | improvements=  30 | delta_lnL=    7.4/ 1383.2 | triple moves=   5   +\n",
      "\t      24s |  17 | lnL=    -10584.3 | depth=    5/   14 | improvements=  11 | delta_lnL=    8.5/  100.0 | triple moves=   5   +\n",
      "\t      27s |  18 | lnL=    -10582.9 | depth=    4/   11 | improvements=   5 | delta_lnL=    1.7/  100.0 | triple moves=   8   +\n",
      "\t      28s |  19 | lnL=    -10582.7 | depth=    1/    8 | improvements=   3 | delta_lnL=    0.0/  100.0 | triple moves=   5   +\n",
      "\t      30s |  20 | lnL=    -10582.6 | depth=    1/    6 | improvements=   1 | delta_lnL=    0.0/  100.0 | triple moves=   5   +\n",
      "\t      33s |  21 | lnL=    -10581.9 | depth=    5/    5 | improvements=   1 | delta_lnL=    0.6/  100.0 | triple moves=   5   +\n",
      "\t      36s |  22 | lnL=    -10581.8 | depth=    0/   10 | improvements=   0 | delta_lnL=    0.0/  100.0 | triple moves=   5   +\n",
      "\n",
      ". Final optimisation steps...\n",
      "\n",
      "\n",
      ". Log likelihood of the current tree: -10581.741936417305623763241.\n",
      "\n",
      ". Calculating fast branch supports (using 'aLRT').\n",
      "\n",
      ". Printing the most likely tree in file 'coi_bird.phy_phyml_tree.txt'.\n",
      "\n",
      ". Time used 0h0m41s\n",
      "\n",
      "oooooooooooooooooooooooooooooooooooooooooooooooooooooooooooooooooooooooooooooooooooooooooooooooo\n"
     ]
    }
   ],
   "source": [
    "!phyml -i coi_bird.phy -d nt -b -1 -m GTR"
   ]
  },
  {
   "cell_type": "code",
   "execution_count": 71,
   "metadata": {},
   "outputs": [
    {
     "name": "stdout",
     "output_type": "stream",
     "text": [
      "\n",
      "\n",
      ". Command line: phyml -i cytb_bird.phy -d nt -b -1 -m GTR \n",
      "\n",
      "\n",
      "\n",
      "\n",
      "\n",
      "  ////////////////////////////////////.\\\\\\\\\\\\\\\\\\\\\\\\\\\\\\\\\\\\\\\\\\\\\\\\\\\\\\\\\\\\\\\\\\\\\\\\\\\\\\\\\\\\\n",
      "  \\\\\\\\\\\\\\\\\\\\\\\\\\\\\\\\\\\\\\\\\\\\\\\\\\\\\\\\\\\\\\\\\\\\\\\\.//////////////////////////////////////////\n",
      "\n",
      "        . Sequence filename:\t\t\t\t cytb_bird.phy\n",
      "        . Data type:\t\t\t\t\t dna\n",
      "        . Alphabet size:\t\t\t\t 4\n",
      "        . Sequence format:\t\t\t\t interleaved\n",
      "        . Number of data sets:\t\t\t\t 1\n",
      "        . Nb of bootstrapped data sets:\t\t\t 0\n",
      "        . Compute approximate likelihood ratio test:\t yes (aLRT statistics)\n",
      "        . Model name:\t\t\t\t\t GTR\n",
      "        . Proportion of invariable sites:\t\t 0.000000\n",
      "        . Number of subst. rate catgs:\t\t\t 4\n",
      "        . Gamma distribution parameter:\t\t\t estimated\n",
      "        . 'Middle' of each rate class:\t\t\t mean\n",
      "        . Nucleotide equilibrium frequencies:\t\t empirical\n",
      "        . Optimise tree topology:\t\t\t yes\n",
      "        . Starting tree:\t\t\t\t BioNJ\n",
      "        . Add random input tree:\t\t\t no\n",
      "        . Optimise branch lengths:\t\t\t yes\n",
      "        . Minimum length of an edge:\t\t\t 1e-08\n",
      "        . Optimise substitution model parameters:\t yes\n",
      "        . Run ID:\t\t\t\t\t none\n",
      "        . Random seed:\t\t\t\t\t 1638404100\n",
      "        . Subtree patterns aliasing:\t\t\t no\n",
      "        . Version:\t\t\t\t\t 3.3.20190909\n",
      "        . Byte alignment:\t\t\t\t 16\n",
      "        . AVX enabled:\t\t\t\t\t no\n",
      "        . SSE enabled:\t\t\t\t\t yes\n",
      "\n",
      "  ////////////////////////////////////.\\\\\\\\\\\\\\\\\\\\\\\\\\\\\\\\\\\\\\\\\\\\\\\\\\\\\\\\\\\\\\\\\\\\\\\\\\\\\\\\\\\\\n",
      "  \\\\\\\\\\\\\\\\\\\\\\\\\\\\\\\\\\\\\\\\\\\\\\\\\\\\\\\\\\\\\\\\\\\\\\\\.//////////////////////////////////////////\n",
      "\n",
      "\n",
      "\n",
      ". 211 patterns found (out of a total of 211 sites). \n",
      "\n",
      ". 0 sites without polymorphism (0.00%).\n",
      "\n",
      "\n",
      ". Computing pairwise distances...\n",
      "\n",
      ". Building BioNJ tree...\n",
      "\n",
      ". This analysis requires at least 4 MB of memory space.\n",
      "\n",
      "\n",
      ". Score of initial tree: -5872.41\n",
      "\n",
      ". Starting first round of SPRs...\n",
      "\n",
      "\t       2s |   1 | lnL=     -5561.9 | depth=    3/   40 | improvements=  26 | delta_lnL=    4.8/ 1000.0   +\n",
      "\t       3s |   2 | lnL=     -5563.8 | depth=    3/   24 | improvements=   9 | delta_lnL=    3.7/ 1000.0  \n",
      "\n",
      ". Second round of optimization...\n",
      "\n",
      "\t       3s |   3 | lnL=     -5559.5 | depth=    8/   21 | improvements=  35 | delta_lnL=  110.3/ 1000.0   +\n",
      "\t       4s |   4 | lnL=     -5565.1 | depth=    9/   16 | improvements=  32 | delta_lnL=   57.0/ 1000.0  \n",
      "\t       4s |   5 | lnL=     -5565.2 | depth=    8/   13 | improvements=  37 | delta_lnL=    4.2/ 1000.0  \n",
      "\t       5s |   6 | lnL=     -5560.2 | depth=    5/   12 | improvements=  35 | delta_lnL=    6.0/  220.7  \n",
      "\t       5s |   7 | lnL=     -5566.8 | depth=    7/    9 | improvements=  39 | delta_lnL=  154.6/  220.7  \n",
      "\t       6s |   8 | lnL=     -5561.0 | depth=    6/   11 | improvements=  28 | delta_lnL=   35.7/  220.7  \n",
      "\t       6s |   9 | lnL=     -5561.5 | depth=    5/   10 | improvements=  29 | delta_lnL=    0.8/  220.7  \n",
      "\t       6s |  10 | lnL=     -5564.0 | depth=    5/    9 | improvements=  23 | delta_lnL=   11.8/  309.2  \n",
      "\t       9s |  11 | lnL=     -5556.8 | depth=    6/    9 | improvements=  25 | delta_lnL=   83.9/  309.2   +\n",
      "\t       9s |  12 | lnL=     -5560.8 | depth=    9/   10 | improvements=  27 | delta_lnL=   11.2/  309.2  \n",
      "\t      10s |  13 | lnL=     -5559.6 | depth=    4/   13 | improvements=  29 | delta_lnL=    2.1/  309.2  \n",
      "\t      10s |  14 | lnL=     -5570.1 | depth=    7/   10 | improvements=  41 | delta_lnL=   33.3/  167.7  \n",
      "\t      10s |  15 | lnL=     -5562.6 | depth=    7/   11 | improvements=  30 | delta_lnL=    5.2/  167.7  \n",
      "\t      11s |  16 | lnL=     -5559.3 | depth=    4/   11 | improvements=  26 | delta_lnL=    0.7/  167.7  \n",
      "\t      11s |  17 | lnL=     -5560.1 | depth=    5/    8 | improvements=  29 | delta_lnL=   26.0/  167.7  \n",
      "\t      12s |  18 | lnL=     -5555.3 | depth=    3/    9 | improvements=  29 | delta_lnL=   19.2/   66.6   +\n",
      "\t      12s |  19 | lnL=     -5560.6 | depth=    7/    7 | improvements=  26 | delta_lnL=   32.5/   66.6  \n",
      "\t      12s |  20 | lnL=     -5557.1 | depth=    9/   11 | improvements=  33 | delta_lnL=   58.5/   66.6  \n",
      "\t      14s |  21 | lnL=     -5552.8 | depth=    3/   13 | improvements=  28 | delta_lnL=    5.2/   66.6   +\n",
      "\t      15s |  22 | lnL=     -5554.1 | depth=    3/   10 | improvements=  29 | delta_lnL=   46.6/  116.9  \n",
      "\t      15s |  23 | lnL=     -5555.3 | depth=    8/    8 | improvements=  23 | delta_lnL=    4.3/  116.9  \n",
      "\t      15s |  24 | lnL=     -5558.7 | depth=    4/   12 | improvements=  32 | delta_lnL=    5.3/  116.9  \n",
      "\t      16s |  25 | lnL=     -5556.3 | depth=    5/    9 | improvements=  20 | delta_lnL=    7.9/  116.9  \n",
      "\t      16s |  26 | lnL=     -5558.2 | depth=    3/    9 | improvements=  24 | delta_lnL=   11.4/   93.2  \n",
      "\t      16s |  27 | lnL=     -5555.2 | depth=    5/    7 | improvements=  27 | delta_lnL=   28.7/   93.2  \n",
      "\t      16s |  28 | lnL=     -5555.5 | depth=    4/    9 | improvements=  24 | delta_lnL=    7.1/   93.2  \n",
      "\t      17s |  29 | lnL=     -5558.2 | depth=    7/    8 | improvements=  21 | delta_lnL=    5.7/   93.2  \n",
      "\t      17s |  30 | lnL=     -5554.7 | depth=    4/   11 | improvements=  27 | delta_lnL=    5.5/   57.3  \n",
      "\n",
      ". Third round of optimization...\n",
      "\n",
      "\t      18s |  31 | lnL=     -5552.1 | depth=    4/   10 | improvements=  14 | delta_lnL=    6.4/  100.0 | triple moves=   5   +\n",
      "\t      19s |  32 | lnL=     -5551.5 | depth=    6/    8 | improvements=   6 | delta_lnL=    2.1/  100.0 | triple moves=   5   +\n",
      "\t      20s |  33 | lnL=     -5551.5 | depth=    0/   12 | improvements=   1 | delta_lnL=    0.0/  100.0 | triple moves=   5   +\n",
      "\t      21s |  34 | lnL=     -5551.4 | depth=    0/    9 | improvements=   1 | delta_lnL=    0.0/  100.0 | triple moves=   5   +\n",
      "\t      22s |  35 | lnL=     -5551.4 | depth=    0/    7 | improvements=   1 | delta_lnL=    0.0/  100.0 | triple moves=   5   +\n",
      "\t      23s |  36 | lnL=     -5551.4 | depth=    0/    5 | improvements=   0 | delta_lnL=    0.0/  100.0 | triple moves=   5   +\n",
      "\n",
      ". Final optimisation steps...\n",
      "\n",
      "\n",
      ". Log likelihood of the current tree: -5551.327767903377207403537.\n",
      "\n",
      ". Calculating fast branch supports (using 'aLRT').\n",
      "\n",
      ". Printing the most likely tree in file 'cytb_bird.phy_phyml_tree.txt'.\n",
      "\n",
      ". Time used 0h0m26s\n",
      "\n",
      "oooooooooooooooooooooooooooooooooooooooooooooooooooooooooooooooooooooooooooooooooooooooooooooooo\n"
     ]
    }
   ],
   "source": [
    "!phyml -i cytb_bird.phy -d nt -b -1 -m GTR"
   ]
  },
  {
   "cell_type": "code",
   "execution_count": 72,
   "metadata": {},
   "outputs": [
    {
     "name": "stdout",
     "output_type": "stream",
     "text": [
      "\n",
      "\n",
      ". Command line: phyml -i coi_cytb_bird.phy -d nt -b -1 -m GTR \n",
      "\n",
      "\n",
      "\n",
      "\n",
      "\n",
      "  ////////////////////////////////////.\\\\\\\\\\\\\\\\\\\\\\\\\\\\\\\\\\\\\\\\\\\\\\\\\\\\\\\\\\\\\\\\\\\\\\\\\\\\\\\\\\\\\n",
      "  \\\\\\\\\\\\\\\\\\\\\\\\\\\\\\\\\\\\\\\\\\\\\\\\\\\\\\\\\\\\\\\\\\\\\\\\.//////////////////////////////////////////\n",
      "\n",
      "        . Sequence filename:\t\t\t\t coi_cytb_bird.phy\n",
      "        . Data type:\t\t\t\t\t dna\n",
      "        . Alphabet size:\t\t\t\t 4\n",
      "        . Sequence format:\t\t\t\t interleaved\n",
      "        . Number of data sets:\t\t\t\t 1\n",
      "        . Nb of bootstrapped data sets:\t\t\t 0\n",
      "        . Compute approximate likelihood ratio test:\t yes (aLRT statistics)\n",
      "        . Model name:\t\t\t\t\t GTR\n",
      "        . Proportion of invariable sites:\t\t 0.000000\n",
      "        . Number of subst. rate catgs:\t\t\t 4\n",
      "        . Gamma distribution parameter:\t\t\t estimated\n",
      "        . 'Middle' of each rate class:\t\t\t mean\n",
      "        . Nucleotide equilibrium frequencies:\t\t empirical\n",
      "        . Optimise tree topology:\t\t\t yes\n",
      "        . Starting tree:\t\t\t\t BioNJ\n",
      "        . Add random input tree:\t\t\t no\n",
      "        . Optimise branch lengths:\t\t\t yes\n",
      "        . Minimum length of an edge:\t\t\t 1e-08\n",
      "        . Optimise substitution model parameters:\t yes\n",
      "        . Run ID:\t\t\t\t\t none\n",
      "        . Random seed:\t\t\t\t\t 1638404126\n",
      "        . Subtree patterns aliasing:\t\t\t no\n",
      "        . Version:\t\t\t\t\t 3.3.20190909\n",
      "        . Byte alignment:\t\t\t\t 16\n",
      "        . AVX enabled:\t\t\t\t\t no\n",
      "        . SSE enabled:\t\t\t\t\t yes\n",
      "\n",
      "  ////////////////////////////////////.\\\\\\\\\\\\\\\\\\\\\\\\\\\\\\\\\\\\\\\\\\\\\\\\\\\\\\\\\\\\\\\\\\\\\\\\\\\\\\\\\\\\\n",
      "  \\\\\\\\\\\\\\\\\\\\\\\\\\\\\\\\\\\\\\\\\\\\\\\\\\\\\\\\\\\\\\\\\\\\\\\\.//////////////////////////////////////////\n",
      "\n",
      "\n",
      "\n",
      ". 604 patterns found (out of a total of 604 sites). \n",
      "\n",
      ". 0 sites without polymorphism (0.00%).\n",
      "\n",
      "\n",
      ". Computing pairwise distances...\n",
      "\n",
      ". Building BioNJ tree...\n",
      "\n",
      ". This analysis requires at least 11 MB of memory space.\n",
      "\n",
      "\n",
      ". Score of initial tree: -19405.50\n",
      "\n",
      ". Starting first round of SPRs...\n",
      "\n",
      "\t       6s |   1 | lnL=    -18752.9 | depth=   12/   40 | improvements=  33 | delta_lnL=  875.6/ 1000.0  \n",
      "\t       8s |   2 | lnL=    -18801.1 | depth=    5/   24 | improvements=  21 | delta_lnL=  569.0/ 1000.0  \n",
      "\t       9s |   3 | lnL=    -18698.4 | depth=    4/   14 | improvements=  16 | delta_lnL=   17.4/ 1000.0   +\n",
      "\t      10s |   4 | lnL=    -18932.0 | depth=    6/   10 | improvements=  35 | delta_lnL=  713.4/ 1000.0  \n",
      "\t      12s |   5 | lnL=    -18761.3 | depth=   12/   12 | improvements=  31 | delta_lnL=  744.6/ 1000.0  \n",
      "\t      13s |   6 | lnL=    -18765.5 | depth=   13/   18 | improvements=  24 | delta_lnL= 1410.2/ 1751.2  \n",
      "\t      15s |   7 | lnL=    -18710.6 | depth=    3/   19 | improvements=  33 | delta_lnL=  741.2/ 1751.2  \n",
      "\t      16s |   8 | lnL=    -18712.7 | depth=    3/   11 | improvements=  25 | delta_lnL=   17.2/ 1751.2  \n",
      "\t      17s |   9 | lnL=    -18668.5 | depth=    2/    9 | improvements=  23 | delta_lnL=   22.6/ 1751.2   +\n",
      "\t      18s |  10 | lnL=    -18698.6 | depth=    4/    8 | improvements=  25 | delta_lnL=  209.2/ 2820.4  \n",
      "\t      21s |  11 | lnL=    -18672.6 | depth=    4/   10 | improvements=  24 | delta_lnL=   62.5/ 2820.4  \n",
      "\t      22s |  12 | lnL=    -18669.1 | depth=    9/   10 | improvements=  22 | delta_lnL=   20.0/ 2820.4  \n",
      "\t      23s |  13 | lnL=    -18819.2 | depth=    9/   15 | improvements=  25 | delta_lnL=  578.6/ 2820.4  \n",
      "\t      25s |  14 | lnL=    -18609.6 | depth=   14/   15 | improvements=  24 | delta_lnL=  321.9/  418.4   +\n",
      "\t      26s |  15 | lnL=    -18690.4 | depth=    6/   20 | improvements=  19 | delta_lnL=  156.7/  418.4  \n",
      "\t      27s |  16 | lnL=    -18606.7 | depth=    6/   12 | improvements=  22 | delta_lnL=  117.3/  418.4   +\n",
      "\t      28s |  17 | lnL=    -18609.1 | depth=    4/   12 | improvements=   8 | delta_lnL=   10.7/  418.4  \n",
      "\n",
      ". Second round of optimization...\n",
      "\n",
      "\t      29s |  18 | lnL=    -18621.5 | depth=    5/   15 | improvements=  18 | delta_lnL=   12.5/  643.8  \n",
      "\t      30s |  19 | lnL=    -18628.3 | depth=   11/   12 | improvements=  16 | delta_lnL=   32.5/  643.8  \n",
      "\t      32s |  20 | lnL=    -18605.2 | depth=   11/   15 | improvements=  12 | delta_lnL=   18.6/  643.8   +\n",
      "\t      37s |  21 | lnL=    -18600.4 | depth=    5/   15 | improvements=  13 | delta_lnL=  551.3/  643.8   +\n",
      "\t      38s |  22 | lnL=    -18587.5 | depth=    5/   12 | improvements=  12 | delta_lnL=   25.0/   65.0   +\n",
      "\t      39s |  23 | lnL=    -18589.1 | depth=    2/    9 | improvements=   7 | delta_lnL=    1.4/   65.0  \n",
      "\t      39s |  24 | lnL=    -18596.5 | depth=    1/    7 | improvements=   4 | delta_lnL=    0.0/   65.0  \n",
      "\n",
      ". Third round of optimization...\n",
      "\n",
      "\t      41s |  25 | lnL=    -18579.9 | depth=    4/   10 | improvements=  13 | delta_lnL=   60.3/  100.0 | triple moves=   5   +\n",
      "\t      43s |  26 | lnL=    -18578.3 | depth=    3/    8 | improvements=   1 | delta_lnL=    0.0/  100.0 | triple moves=   5   +\n",
      "\t      44s |  27 | lnL=    -18574.1 | depth=    2/    6 | improvements=   4 | delta_lnL=    0.6/  100.0 | triple moves=   5   +\n",
      "\t      46s |  28 | lnL=    -18572.1 | depth=    1/    5 | improvements=   2 | delta_lnL=    0.0/  100.0 | triple moves=   5   +\n",
      "\t      50s |  29 | lnL=    -18572.1 | depth=    0/    5 | improvements=   0 | delta_lnL=    0.0/  100.0 | triple moves=   5   +\n",
      "\n",
      ". Final optimisation steps...\n",
      "\n",
      "\n",
      ". Log likelihood of the current tree: -18572.021437871502712368965.\n",
      "\n",
      ". Calculating fast branch supports (using 'aLRT').\n",
      "\n",
      ". Printing the most likely tree in file 'coi_cytb_bird.phy_phyml_tree.txt'.\n",
      "\n",
      ". Time used 0h0m54s\n",
      "\n",
      "oooooooooooooooooooooooooooooooooooooooooooooooooooooooooooooooooooooooooooooooooooooooooooooooo\n"
     ]
    }
   ],
   "source": [
    "!phyml -i coi_cytb_bird.phy -d nt -b -1 -m GTR"
   ]
  },
  {
   "cell_type": "markdown",
   "metadata": {},
   "source": [
    "# Plotting the Tree"
   ]
  },
  {
   "cell_type": "code",
   "execution_count": null,
   "metadata": {},
   "outputs": [],
   "source": [
    "#run r_phytools_script.R "
   ]
  },
  {
   "cell_type": "markdown",
   "metadata": {},
   "source": [
    "final tree would includes both marker genes, because it come for mitochondra and there's no recombination so we could use it as single "
   ]
  },
  {
   "cell_type": "markdown",
   "metadata": {},
   "source": [
    "# Re root the Tree"
   ]
  },
  {
   "cell_type": "code",
   "execution_count": 7,
   "metadata": {},
   "outputs": [],
   "source": [
    "# need to do that still, re run data but with crocodile Crocodylus acutus data"
   ]
  },
  {
   "cell_type": "markdown",
   "metadata": {},
   "source": [
    "# Mapping Discrete Characters on the tree"
   ]
  },
  {
   "cell_type": "code",
   "execution_count": null,
   "metadata": {},
   "outputs": [],
   "source": [
    "# run R phytools script "
   ]
  },
  {
   "cell_type": "markdown",
   "metadata": {},
   "source": [
    "# Ancestral Reconstrcution"
   ]
  },
  {
   "cell_type": "markdown",
   "metadata": {},
   "source": [
    "making sure that only unique sequences are in the fasta files to make sure that there are non-zero branch lengths"
   ]
  },
  {
   "cell_type": "code",
   "execution_count": 2,
   "metadata": {},
   "outputs": [
    {
     "name": "stdout",
     "output_type": "stream",
     "text": [
      "Collecting package metadata (current_repodata.json): done\n",
      "Solving environment: failed with initial frozen solve. Retrying with flexible solve.\n",
      "Solving environment: failed with repodata from current_repodata.json, will retry with next repodata source.\n",
      "Collecting package metadata (repodata.json): done\n",
      "Solving environment: done\n",
      "\n",
      "## Package Plan ##\n",
      "\n",
      "  environment location: /Users/SamihaMahin/opt/anaconda3\n",
      "\n",
      "  added / updated specs:\n",
      "    - fastx_toolkit\n",
      "\n",
      "\n",
      "The following packages will be downloaded:\n",
      "\n",
      "    package                    |            build\n",
      "    ---------------------------|-----------------\n",
      "    fastx_toolkit-0.0.14       |                2         107 KB  bioconda\n",
      "    giflib-5.1.4               |       h1de35cc_1          59 KB\n",
      "    gnuplot-5.0.3              |                4         898 KB  bioconda\n",
      "    libgd-2.3.2                |       h7d6b0e8_3         198 KB\n",
      "    libgtextutils-0.7          |       h4a8c4bd_6         138 KB  bioconda\n",
      "    libwebp-1.0.1              |       hd73b212_0         431 KB\n",
      "    ------------------------------------------------------------\n",
      "                                           Total:         1.8 MB\n",
      "\n",
      "The following NEW packages will be INSTALLED:\n",
      "\n",
      "  fastx_toolkit      bioconda/osx-64::fastx_toolkit-0.0.14-2\n",
      "  fontconfig         pkgs/main/osx-64::fontconfig-2.13.1-ha9ee91d_0\n",
      "  giflib             pkgs/main/osx-64::giflib-5.1.4-h1de35cc_1\n",
      "  gnuplot            bioconda/osx-64::gnuplot-5.0.3-4\n",
      "  libgd              pkgs/main/osx-64::libgd-2.3.2-h7d6b0e8_3\n",
      "  libgtextutils      bioconda/osx-64::libgtextutils-0.7-h4a8c4bd_6\n",
      "  libwebp            pkgs/main/osx-64::libwebp-1.0.1-hd73b212_0\n",
      "\n",
      "\n",
      "\n",
      "Downloading and Extracting Packages\n",
      "gnuplot-5.0.3        | 898 KB    | ##################################### | 100% \n",
      "libgd-2.3.2          | 198 KB    | ##################################### | 100% \n",
      "libgtextutils-0.7    | 138 KB    | ##################################### | 100% \n",
      "fastx_toolkit-0.0.14 | 107 KB    | ##################################### | 100% \n",
      "giflib-5.1.4         | 59 KB     | ##################################### | 100% \n",
      "libwebp-1.0.1        | 431 KB    | ##################################### | 100% \n",
      "Preparing transaction: done\n",
      "Verifying transaction: done\n",
      "Executing transaction: done\n"
     ]
    }
   ],
   "source": [
    "!conda install --yes -c bioconda fastx_toolkit"
   ]
  },
  {
   "cell_type": "markdown",
   "metadata": {},
   "source": [
    "need to trim the tips of the tree"
   ]
  },
  {
   "cell_type": "code",
   "execution_count": null,
   "metadata": {},
   "outputs": [],
   "source": [
    "#!fastx_collapser < some.fasta > some.unique.fasta"
   ]
  }
 ],
 "metadata": {
  "kernelspec": {
   "display_name": "Python 3",
   "language": "python",
   "name": "python3"
  },
  "language_info": {
   "codemirror_mode": {
    "name": "ipython",
    "version": 3
   },
   "file_extension": ".py",
   "mimetype": "text/x-python",
   "name": "python",
   "nbconvert_exporter": "python",
   "pygments_lexer": "ipython3",
   "version": "3.8.5"
  }
 },
 "nbformat": 4,
 "nbformat_minor": 4
}
