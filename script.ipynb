{
 "cells": [
  {
   "cell_type": "code",
   "execution_count": 6,
   "metadata": {},
   "outputs": [],
   "source": [
    "# to install Entrez direct, please use this command line code in bash: !sh -c \"$(curl -fsSL ftp://ftp.ncbi.nlm.nih.gov/entrez/entrezdirect/install-edirect.sh)\""
   ]
  },
  {
   "cell_type": "code",
   "execution_count": 12,
   "metadata": {},
   "outputs": [
    {
     "name": "stdout",
     "output_type": "stream",
     "text": [
      "Collecting package metadata (current_repodata.json): done\n",
      "Solving environment: done\n",
      "\n",
      "# All requested packages already installed.\n",
      "\n"
     ]
    }
   ],
   "source": [
    "!conda install --yes -c bioconda entrez-direct"
   ]
  },
  {
   "cell_type": "code",
   "execution_count": 13,
   "metadata": {},
   "outputs": [
    {
     "name": "stdout",
     "output_type": "stream",
     "text": [
      "curl: (22) The requested URL returned error: 500 Internal Server Error\n",
      "\u001b[m\u001b[?7h\u001b[4l\u001b>\u001b7\u001b[r\u001b[?1;3;4;6l\u001b8\u001b[31m\u001b[1m\u001b[7m ERROR: \u001b[m\u001b[?7h\u001b[4l\u001b>\u001b7\u001b[r\u001b[?1;3;4;6l\u001b8\u001b[31m\u001b[1m curl command failed ( Thu Nov 18 20:58:56 PST 2021 ) with: 22\u001b[m\u001b[?7h\u001b[4l\u001b>\u001b7\u001b[r\u001b[?1;3;4;6l\u001b8\n",
      "\u001b[34mhttps://eutils.ncbi.nlm.nih.gov/entrez/eutils/efetch.fcgi -d query_key=1&WebEnv=MCID_61972f0f6907c629390a1aee&retstart=0&retmax=1&db=nucleotide&rettype=fasta&retmode=text&tool=edirect&edirect=16.2&edirect_os=Darwin&email=SamihaMahin%40Samihas-MacBook-Air.local\u001b[m\u001b[?7h\u001b[4l\u001b>\u001b7\u001b[r\u001b[?1;3;4;6l\u001b8\n",
      "\u001b[m\u001b[31m\u001b[1m\u001b[7m WARNING: \u001b[m\u001b[31m\u001b[1m FAILURE ( Thu Nov 18 20:58:56 PST 2021 )\u001b[m\n",
      "\u001b[34mnquire -url https://eutils.ncbi.nlm.nih.gov/entrez/eutils/ efetch.fcgi -query_key 1 -WebEnv MCID_61972f0f6907c629390a1aee -retstart 0 -retmax 1 -db nucleotide -rettype fasta -retmode text -tool edirect -edirect 16.2 -edirect_os Darwin -email SamihaMahin@Samihas-MacBook-Air.local\n",
      "\u001b[m\u001b[31mEMPTY RESULT\u001b[m\n",
      "\u001b[34mSECOND ATTEMPT\u001b[m\n"
     ]
    }
   ],
   "source": [
    "!for i in `cat ID_coi.txt`; do esearch -db nucleotide -query \"$i\" | efetch -format fasta > \"$i\".fasta; done"
   ]
  },
  {
   "cell_type": "code",
   "execution_count": 14,
   "metadata": {},
   "outputs": [],
   "source": [
    "!cat *fasta > coi_bird.fa"
   ]
  },
  {
   "cell_type": "code",
   "execution_count": 15,
   "metadata": {},
   "outputs": [],
   "source": [
    "#delete all of the created fasta files that are now concated into coi_bird.fa\n",
    "!rm *[1-9]*.fasta"
   ]
  },
  {
   "cell_type": "code",
   "execution_count": 16,
   "metadata": {},
   "outputs": [],
   "source": [
    "!for i in `cat ID_cytb.txt`; do esearch -db nucleotide -query \"$i\" | efetch -format fasta > \"$i\".fasta; done"
   ]
  },
  {
   "cell_type": "code",
   "execution_count": 17,
   "metadata": {},
   "outputs": [],
   "source": [
    "!cat *[1-9]*fasta > cytb_bird.fa"
   ]
  },
  {
   "cell_type": "code",
   "execution_count": 18,
   "metadata": {},
   "outputs": [],
   "source": [
    "!rm *[1-9]*.fasta"
   ]
  },
  {
   "cell_type": "markdown",
   "metadata": {},
   "source": [
    "## Creating Fasta Files for IDs"
   ]
  },
  {
   "cell_type": "code",
   "execution_count": 7,
   "metadata": {},
   "outputs": [
    {
     "name": "stdout",
     "output_type": "stream",
     "text": [
      "/bin/bash: esearch: command not found\n",
      "/bin/bash: efetch: command not found\n",
      "/bin/bash: esearch: command not found\n",
      "/bin/bash: efetch: command not found\n",
      "/bin/bash: esearch: command not found\n",
      "/bin/bash: efetch: command not found\n",
      "/bin/bash: efetch: command not found\n",
      "/bin/bash: esearch: command not found\n",
      "/bin/bash: esearch: command not found\n",
      "/bin/bash: efetch: command not found\n",
      "/bin/bash: esearch: command not found\n",
      "/bin/bash: efetch: command not found\n",
      "/bin/bash: esearch: command not found\n",
      "/bin/bash: efetch: command not found\n",
      "/bin/bash: esearch: command not found\n",
      "/bin/bash: efetch: command not found\n",
      "/bin/bash: esearch: command not found\n",
      "/bin/bash: efetch: command not found\n",
      "/bin/bash: esearch: command not found\n",
      "/bin/bash: efetch: command not found\n",
      "/bin/bash: esearch: command not found\n",
      "/bin/bash: efetch: command not found\n",
      "/bin/bash: esearch: command not found\n",
      "/bin/bash: efetch: command not found\n",
      "/bin/bash: esearch: command not found\n",
      "/bin/bash: efetch: command not found\n",
      "/bin/bash: esearch: command not found\n",
      "/bin/bash: efetch: command not found\n",
      "/bin/bash: esearch: command not found\n",
      "/bin/bash: efetch: command not found\n",
      "/bin/bash: esearch: command not found\n",
      "/bin/bash: efetch: command not found\n",
      "/bin/bash: esearch: command not found\n",
      "/bin/bash: efetch: command not found\n",
      "/bin/bash: esearch: command not found\n",
      "/bin/bash: efetch: command not found\n",
      "/bin/bash: esearch: command not found\n",
      "/bin/bash: efetch: command not found\n",
      "/bin/bash: esearch: command not found\n",
      "/bin/bash: efetch: command not found\n",
      "/bin/bash: esearch: command not found\n",
      "/bin/bash: efetch: command not found\n",
      "/bin/bash: esearch: command not found\n",
      "/bin/bash: efetch: command not found\n",
      "/bin/bash: esearch: command not found\n",
      "/bin/bash: efetch: command not found\n",
      "/bin/bash: esearch: command not found\n",
      "/bin/bash: efetch: command not found\n",
      "/bin/bash: esearch: command not found\n",
      "/bin/bash: efetch: command not found\n",
      "/bin/bash: esearch: command not found\n",
      "/bin/bash: efetch: command not found\n",
      "/bin/bash: esearch: command not found\n",
      "/bin/bash: efetch: command not found\n",
      "/bin/bash: esearch: command not found\n",
      "/bin/bash: efetch: command not found\n",
      "/bin/bash: esearch: command not found\n",
      "/bin/bash: efetch: command not found\n",
      "/bin/bash: esearch: command not found\n",
      "/bin/bash: efetch: command not found\n",
      "/bin/bash: esearch: command not found\n",
      "/bin/bash: efetch: command not found\n",
      "/bin/bash: esearch: command not found\n",
      "/bin/bash: efetch: command not found\n"
     ]
    }
   ],
   "source": [
    "!for i in `cat ID_cox1.txt`; do esearch -db nucleotide -query \"$i\" | efetch -format fasta > \"$i\".fasta; done"
   ]
  },
  {
   "cell_type": "code",
   "execution_count": null,
   "metadata": {},
   "outputs": [],
   "source": [
    "!for i in `cat ID_coi.txt`; do esearch -db nucleotide -query \"$i\" | efetch -format fasta > \"$i\".fasta; done"
   ]
  },
  {
   "cell_type": "code",
   "execution_count": null,
   "metadata": {},
   "outputs": [],
   "source": [
    "!for i in `cat ID_cytb.txt`; do esearch -db nucleotide -query \"$i\" | efetch -format fasta > \"$i\".fasta; done"
   ]
  },
  {
   "cell_type": "code",
   "execution_count": null,
   "metadata": {},
   "outputs": [],
   "source": [
    "with IOS.OpenFile(w, \"\"):\n",
    "    appended_species = []\n",
    "    for each species:\n",
    "        appended_species += [string_coi]\n",
    "        "
   ]
  },
  {
   "cell_type": "code",
   "execution_count": null,
   "metadata": {},
   "outputs": [],
   "source": [
    "#final tree would includes all three genes, because it come for mitochondra and there's no recombination so we could use it as single "
   ]
  }
 ],
 "metadata": {
  "kernelspec": {
   "display_name": "Python 3",
   "language": "python",
   "name": "python3"
  },
  "language_info": {
   "codemirror_mode": {
    "name": "ipython",
    "version": 3
   },
   "file_extension": ".py",
   "mimetype": "text/x-python",
   "name": "python",
   "nbconvert_exporter": "python",
   "pygments_lexer": "ipython3",
   "version": "3.8.5"
  }
 },
 "nbformat": 4,
 "nbformat_minor": 4
}
