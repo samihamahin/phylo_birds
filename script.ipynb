{
 "cells": [
  {
   "cell_type": "code",
   "execution_count": 35,
   "metadata": {},
   "outputs": [],
   "source": [
    "# to install Entrez direct, please use this command line code in bash: !sh -c \"$(curl -fsSL ftp://ftp.ncbi.nlm.nih.gov/entrez/entrezdirect/install-edirect.sh)\""
   ]
  },
  {
   "cell_type": "code",
   "execution_count": 36,
   "metadata": {},
   "outputs": [
    {
     "name": "stdout",
     "output_type": "stream",
     "text": [
      "Collecting package metadata (current_repodata.json): done\n",
      "Solving environment: done\n",
      "\n",
      "# All requested packages already installed.\n",
      "\n"
     ]
    }
   ],
   "source": [
    "!conda install --yes -c bioconda entrez-direct"
   ]
  },
  {
   "cell_type": "code",
   "execution_count": 37,
   "metadata": {},
   "outputs": [],
   "source": [
    "!for i in `cat ID_coi.txt`; do esearch -db nucleotide -query \"$i\" | efetch -format fasta > \"$i\".fasta; done"
   ]
  },
  {
   "cell_type": "code",
   "execution_count": 38,
   "metadata": {},
   "outputs": [],
   "source": [
    "!cat *fasta > coi_bird.fa"
   ]
  },
  {
   "cell_type": "code",
   "execution_count": 39,
   "metadata": {},
   "outputs": [],
   "source": [
    "#delete all of the created fasta files that are now concated into coi_bird.fa\n",
    "!rm *[1-9]*.fasta"
   ]
  },
  {
   "cell_type": "code",
   "execution_count": 40,
   "metadata": {},
   "outputs": [],
   "source": [
    "!for i in `cat ID_cytb.txt`; do esearch -db nucleotide -query \"$i\" | efetch -format fasta > \"$i\".fasta; done"
   ]
  },
  {
   "cell_type": "code",
   "execution_count": 41,
   "metadata": {},
   "outputs": [],
   "source": [
    "!cat *[1-9]*fasta > cytb_bird.fa"
   ]
  },
  {
   "cell_type": "code",
   "execution_count": 42,
   "metadata": {},
   "outputs": [],
   "source": [
    "!rm *[1-9]*.fasta"
   ]
  },
  {
   "cell_type": "code",
   "execution_count": 43,
   "metadata": {},
   "outputs": [],
   "source": [
    "!sed \"s/ /_/g\" coi_bird.fa > out_coi_bird.fa"
   ]
  },
  {
   "cell_type": "code",
   "execution_count": 44,
   "metadata": {},
   "outputs": [],
   "source": [
    "!sed \"s/ /_/g\" cytb_bird.fa > out_cytb_bird.fa"
   ]
  },
  {
   "cell_type": "code",
   "execution_count": 45,
   "metadata": {},
   "outputs": [],
   "source": [
    "!rm coi_bird.fa"
   ]
  },
  {
   "cell_type": "code",
   "execution_count": 46,
   "metadata": {},
   "outputs": [],
   "source": [
    "!rm cytb_bird.fa"
   ]
  },
  {
   "cell_type": "code",
   "execution_count": 50,
   "metadata": {},
   "outputs": [
    {
     "name": "stdout",
     "output_type": "stream",
     "text": [
      "sed: 1: \"out_coi_bird.fa\": invalid command code o\n",
      "sed: 1: \"out_coi_bird.fa\": invalid command code o\n",
      "sed: 1: \"out_coi_bird.fa\": invalid command code o\n",
      "sed: 1: \"out_coi_bird.fa\": invalid command code o\n",
      "sed: 1: \"out_coi_bird.fa\": invalid command code o\n",
      "sed: 1: \"out_coi_bird.fa\": invalid command code o\n",
      "sed: 1: \"out_coi_bird.fa\": invalid command code o\n",
      "sed: 1: \"out_coi_bird.fa\": invalid command code o\n",
      "sed: 1: \"out_coi_bird.fa\": invalid command code o\n",
      "sed: 1: \"out_coi_bird.fa\": invalid command code o\n",
      "sed: 1: \"out_coi_bird.fa\": invalid command code o\n",
      "sed: 1: \"out_coi_bird.fa\": invalid command code o\n",
      "sed: 1: \"out_coi_bird.fa\": invalid command code o\n",
      "sed: 1: \"out_coi_bird.fa\": invalid command code o\n",
      "sed: 1: \"out_coi_bird.fa\": invalid command code o\n",
      "sed: 1: \"out_coi_bird.fa\": invalid command code o\n",
      "sed: 1: \"out_coi_bird.fa\": invalid command code o\n",
      "sed: 1: \"out_coi_bird.fa\": invalid command code o\n",
      "sed: 1: \"out_coi_bird.fa\": invalid command code o\n",
      "sed: 1: \"out_coi_bird.fa\": invalid command code o\n",
      "sed: 1: \"out_coi_bird.fa\": invalid command code o\n",
      "sed: 1: \"out_coi_bird.fa\": invalid command code o\n",
      "sed: 1: \"out_coi_bird.fa\": invalid command code o\n",
      "sed: 1: \"out_coi_bird.fa\": invalid command code o\n",
      "sed: 1: \"out_coi_bird.fa\": invalid command code o\n",
      "sed: 1: \"out_coi_bird.fa\": invalid command code o\n",
      "sed: 1: \"out_coi_bird.fa\": invalid command code o\n",
      "sed: 1: \"out_coi_bird.fa\": invalid command code o\n",
      "sed: 1: \"out_coi_bird.fa\": invalid command code o\n",
      "sed: 1: \"out_coi_bird.fa\": invalid command code o\n",
      "sed: 1: \"out_coi_bird.fa\": invalid command code o\n",
      "sed: 1: \"out_coi_bird.fa\": invalid command code o\n"
     ]
    }
   ],
   "source": [
    "!paste coi_names_before.txt coi_names_after.txt | while read -r n k; do sed -i \"s/${n}/>${k}/g\" out_coi_bird.fa; done"
   ]
  },
  {
   "cell_type": "markdown",
   "metadata": {},
   "source": [
    "## what is wrong with my paste command and how do I sort my fasta file in terms of name because generated in random order"
   ]
  },
  {
   "cell_type": "markdown",
   "metadata": {},
   "source": [
    "# What do I do with marker genes that are not accounted in all samples, do I still concatenate?"
   ]
  },
  {
   "cell_type": "markdown",
   "metadata": {},
   "source": [
    "## Need to do trimming visualizing after aligning"
   ]
  },
  {
   "cell_type": "code",
   "execution_count": null,
   "metadata": {},
   "outputs": [],
   "source": [
    "!paste cytb_names_before.txt cytb_names_after.txt | while read -r n k; do sed -i \"s/${n}/>${k}/g\" out_cytb_bird.fa; done"
   ]
  },
  {
   "cell_type": "code",
   "execution_count": null,
   "metadata": {},
   "outputs": [],
   "source": [
    "#another way to do it is to use names before text and after text"
   ]
  },
  {
   "cell_type": "markdown",
   "metadata": {},
   "source": [
    "## Creating Fasta Files for IDs"
   ]
  },
  {
   "cell_type": "code",
   "execution_count": null,
   "metadata": {},
   "outputs": [],
   "source": [
    "with IOS.OpenFile(w, \"\"):\n",
    "    appended_species = []\n",
    "    for each species:\n",
    "        appended_species += [string_coi]\n",
    "        "
   ]
  },
  {
   "cell_type": "code",
   "execution_count": null,
   "metadata": {},
   "outputs": [],
   "source": [
    "#final tree would includes all three genes, because it come for mitochondra and there's no recombination so we could use it as single "
   ]
  }
 ],
 "metadata": {
  "kernelspec": {
   "display_name": "Python 3",
   "language": "python",
   "name": "python3"
  },
  "language_info": {
   "codemirror_mode": {
    "name": "ipython",
    "version": 3
   },
   "file_extension": ".py",
   "mimetype": "text/x-python",
   "name": "python",
   "nbconvert_exporter": "python",
   "pygments_lexer": "ipython3",
   "version": "3.8.5"
  }
 },
 "nbformat": 4,
 "nbformat_minor": 4
}
